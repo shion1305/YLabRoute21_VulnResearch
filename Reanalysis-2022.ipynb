{
 "cells": [
  {
   "cell_type": "markdown",
   "source": [
    "# import data"
   ],
   "metadata": {
    "collapsed": false,
    "pycharm": {
     "name": "#%% md\n"
    }
   }
  },
  {
   "cell_type": "code",
   "execution_count": 20,
   "metadata": {
    "collapsed": true
   },
   "outputs": [
    {
     "name": "stderr",
     "output_type": "stream",
     "text": [
      "c:\\users\\shion\\pycharmprojects\\projectroute112021\\venv\\lib\\site-packages\\elasticsearch\\connection\\base.py:200: ElasticsearchWarning: Elasticsearch built-in security features are not enabled. Without authentication, your cluster could be accessible to anyone. See https://www.elastic.co/guide/en/elasticsearch/reference/7.16/security-minimal-setup.html to enable security.\n",
      "  warnings.warn(message, category=ElasticsearchWarning)\n"
     ]
    },
    {
     "name": "stdout",
     "output_type": "stream",
     "text": [
      "Total size of data is... 17701\n"
     ]
    }
   ],
   "source": [
    "from DataCollector import importNotDetectData\n",
    "\n",
    "data = importNotDetectData(2101, 2201)\n",
    "print('Total size of data is... %d' % len(data))"
   ]
  },
  {
   "cell_type": "markdown",
   "source": [
    "- Categorize data by its path\n",
    "- Export list of signature"
   ],
   "metadata": {
    "collapsed": false,
    "pycharm": {
     "name": "#%% md\n"
    }
   }
  },
  {
   "cell_type": "code",
   "execution_count": 1,
   "outputs": [
    {
     "ename": "NameError",
     "evalue": "name 'data' is not defined",
     "output_type": "error",
     "traceback": [
      "\u001B[1;31m---------------------------------------------------------------------------\u001B[0m",
      "\u001B[1;31mNameError\u001B[0m                                 Traceback (most recent call last)",
      "\u001B[1;32m~\\AppData\\Local\\Temp/ipykernel_25232/2876948942.py\u001B[0m in \u001B[0;36m<module>\u001B[1;34m\u001B[0m\n\u001B[0;32m      2\u001B[0m \u001B[1;33m\u001B[0m\u001B[0m\n\u001B[0;32m      3\u001B[0m \u001B[1;31m#ここでは、同じsignature内に同一のipからのアクセスがどれくらいあるか確認する。\u001B[0m\u001B[1;33m\u001B[0m\u001B[1;33m\u001B[0m\u001B[1;33m\u001B[0m\u001B[0m\n\u001B[1;32m----> 4\u001B[1;33m \u001B[0mdataS\u001B[0m \u001B[1;33m=\u001B[0m \u001B[0mgroupBySignature\u001B[0m\u001B[1;33m(\u001B[0m\u001B[0mdata\u001B[0m\u001B[1;33m)\u001B[0m\u001B[1;33m\u001B[0m\u001B[1;33m\u001B[0m\u001B[0m\n\u001B[0m\u001B[0;32m      5\u001B[0m \u001B[1;31m# result1はsignatureごとに分類した上に同一destination_ipについて整理したもの\u001B[0m\u001B[1;33m\u001B[0m\u001B[1;33m\u001B[0m\u001B[1;33m\u001B[0m\u001B[0m\n\u001B[0;32m      6\u001B[0m \u001B[0mresult1\u001B[0m \u001B[1;33m=\u001B[0m \u001B[1;33m{\u001B[0m\u001B[1;33m}\u001B[0m\u001B[1;33m\u001B[0m\u001B[1;33m\u001B[0m\u001B[0m\n",
      "\u001B[1;31mNameError\u001B[0m: name 'data' is not defined"
     ]
    }
   ],
   "source": [
    "from DataGrouper import groupBySignature\n",
    "\n",
    "#ここでは、同じsignature内に同一のipからのアクセスがどれくらいあるか確認する。\n",
    "dataS = groupBySignature(data)\n",
    "# result1はsignatureごとに分類した上に同一destination_ipについて整理したもの\n",
    "result1 = {}\n",
    "for s, hits in dataS.items():\n",
    "    #それぞれのIPについて分類する。\n",
    "    resultIps = {}\n",
    "    for hit in hits:\n",
    "        if not hit['_source']['destination_ip'] in resultIps:\n",
    "            resultIps[hit['_source']['destination_ip']] = []\n",
    "        resultIps[hit['_source']['destination_ip']].append(hit)\n",
    "    # Signature s についての分類が完了\n",
    "    # データとして格納\n",
    "    result1[s] = resultIps\n",
    "# result1を並び変える。\n",
    "# len(x[1])refers to the size of the variation of destination_ip\n",
    "# ↑ if this value is bigger than 1, it means that it is prevalent\n",
    "result1 = sorted(result1.items(), key=lambda x: len(dataS[x[0]]), reverse=True)\n",
    "result1 = sorted(result1, key=lambda x: len(x[1]), reverse=True)\n",
    "# Print and Export result1 as \"signatures_by_num_destIP(1-10).csv\"\n",
    "f = open(\"resultData/signatures_by_num_destIP(2021.1.1-).csv\", \"wb\")\n",
    "# 書き出す項目について整理しておく\n",
    "print(\"signature\".center(50), \"Spots\", \"Counts\")\n",
    "f.write('Signature,Spots,Hits\\n'.encode('utf-8'))\n",
    "for s, r in result1:\n",
    "    print(s[:50].ljust(50), str(len(r)).rjust(5), str(len(dataS[s])).rjust(6))\n",
    "    b = (s + ',' + str(len(r)) + ',' + str(len(dataS[s])) + '\\n').encode('utf-8')\n",
    "    f.write(b)\n",
    "f.flush()\n",
    "f.close()"
   ],
   "metadata": {
    "collapsed": false,
    "pycharm": {
     "name": "#%%\n"
    }
   }
  },
  {
   "cell_type": "markdown",
   "source": [],
   "metadata": {
    "collapsed": false,
    "pycharm": {
     "name": "#%% md\n"
    }
   }
  },
  {
   "cell_type": "code",
   "execution_count": null,
   "outputs": [],
   "source": [
    "from search.VulnersSearch import search as vSearch\n",
    "for s, d in dataS.items():\n",
    "    vSearch(s)"
   ],
   "metadata": {
    "collapsed": false,
    "pycharm": {
     "name": "#%%\n"
    }
   }
  }
 ],
 "metadata": {
  "kernelspec": {
   "display_name": "Python 3",
   "language": "python",
   "name": "python3"
  },
  "language_info": {
   "codemirror_mode": {
    "name": "ipython",
    "version": 2
   },
   "file_extension": ".py",
   "mimetype": "text/x-python",
   "name": "python",
   "nbconvert_exporter": "python",
   "pygments_lexer": "ipython2",
   "version": "2.7.6"
  }
 },
 "nbformat": 4,
 "nbformat_minor": 0
}