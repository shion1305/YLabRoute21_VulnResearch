{
 "cells": [
  {
   "cell_type": "code",
   "execution_count": 1,
   "metadata": {
    "collapsed": true
   },
   "outputs": [
    {
     "name": "stderr",
     "output_type": "stream",
     "text": [
      "c:\\users\\shion\\pycharmprojects\\projectroute112021\\venv\\lib\\site-packages\\elasticsearch\\connection\\base.py:200: ElasticsearchWarning: Elasticsearch built-in security features are not enabled. Without authentication, your cluster could be accessible to anyone. See https://www.elastic.co/guide/en/elasticsearch/reference/7.16/security-minimal-setup.html to enable security.\n",
      "  warnings.warn(message, category=ElasticsearchWarning)\n"
     ]
    },
    {
     "ename": "RequestError",
     "evalue": "RequestError(400, 'parsing_exception', '[term] query does not support [@timestamp]')",
     "output_type": "error",
     "traceback": [
      "\u001B[1;31m---------------------------------------------------------------------------\u001B[0m",
      "\u001B[1;31mRequestError\u001B[0m                              Traceback (most recent call last)",
      "\u001B[1;32m~\\AppData\\Local\\Temp/ipykernel_4240/3315685706.py\u001B[0m in \u001B[0;36m<module>\u001B[1;34m\u001B[0m\n\u001B[0;32m      1\u001B[0m \u001B[1;32mfrom\u001B[0m \u001B[0mDataCollector\u001B[0m \u001B[1;32mimport\u001B[0m \u001B[1;33m*\u001B[0m\u001B[1;33m\u001B[0m\u001B[1;33m\u001B[0m\u001B[0m\n\u001B[1;32m----> 2\u001B[1;33m \u001B[0mprint\u001B[0m\u001B[1;33m(\u001B[0m\u001B[0mlen\u001B[0m\u001B[1;33m(\u001B[0m\u001B[0mimportAllData\u001B[0m\u001B[1;33m(\u001B[0m\u001B[1;33m)\u001B[0m\u001B[1;33m)\u001B[0m\u001B[1;33m)\u001B[0m\u001B[1;33m\u001B[0m\u001B[1;33m\u001B[0m\u001B[0m\n\u001B[0m",
      "\u001B[1;32m~\\PycharmProjects\\ProjectRoute112021\\DataCollector.py\u001B[0m in \u001B[0;36mimportAllData\u001B[1;34m(start, end)\u001B[0m\n\u001B[0;32m     29\u001B[0m             }\n\u001B[0;32m     30\u001B[0m             result.extend(\n\u001B[1;32m---> 31\u001B[1;33m                 es.search(index=\"xpot_accesslog-20%02d.%02d\" % (t[0], t[1]), query=query,\n\u001B[0m\u001B[0;32m     32\u001B[0m                           \u001B[0msize\u001B[0m\u001B[1;33m=\u001B[0m\u001B[1;36m10000\u001B[0m\u001B[1;33m)\u001B[0m\u001B[1;33m[\u001B[0m\u001B[1;34m'hits'\u001B[0m\u001B[1;33m]\u001B[0m\u001B[1;33m[\u001B[0m\u001B[1;33m\u001B[0m\u001B[1;33m\u001B[0m\u001B[0m\n\u001B[0;32m     33\u001B[0m                     'hits'])\n",
      "\u001B[1;32mc:\\users\\shion\\pycharmprojects\\projectroute112021\\venv\\lib\\site-packages\\elasticsearch\\client\\utils.py\u001B[0m in \u001B[0;36m_wrapped\u001B[1;34m(*args, **kwargs)\u001B[0m\n\u001B[0;32m    345\u001B[0m                 \u001B[1;32mif\u001B[0m \u001B[0mp\u001B[0m \u001B[1;32min\u001B[0m \u001B[0mkwargs\u001B[0m\u001B[1;33m:\u001B[0m\u001B[1;33m\u001B[0m\u001B[1;33m\u001B[0m\u001B[0m\n\u001B[0;32m    346\u001B[0m                     \u001B[0mparams\u001B[0m\u001B[1;33m[\u001B[0m\u001B[0mp\u001B[0m\u001B[1;33m]\u001B[0m \u001B[1;33m=\u001B[0m \u001B[0mkwargs\u001B[0m\u001B[1;33m.\u001B[0m\u001B[0mpop\u001B[0m\u001B[1;33m(\u001B[0m\u001B[0mp\u001B[0m\u001B[1;33m)\u001B[0m\u001B[1;33m\u001B[0m\u001B[1;33m\u001B[0m\u001B[0m\n\u001B[1;32m--> 347\u001B[1;33m             \u001B[1;32mreturn\u001B[0m \u001B[0mfunc\u001B[0m\u001B[1;33m(\u001B[0m\u001B[1;33m*\u001B[0m\u001B[0margs\u001B[0m\u001B[1;33m,\u001B[0m \u001B[0mparams\u001B[0m\u001B[1;33m=\u001B[0m\u001B[0mparams\u001B[0m\u001B[1;33m,\u001B[0m \u001B[0mheaders\u001B[0m\u001B[1;33m=\u001B[0m\u001B[0mheaders\u001B[0m\u001B[1;33m,\u001B[0m \u001B[1;33m**\u001B[0m\u001B[0mkwargs\u001B[0m\u001B[1;33m)\u001B[0m\u001B[1;33m\u001B[0m\u001B[1;33m\u001B[0m\u001B[0m\n\u001B[0m\u001B[0;32m    348\u001B[0m \u001B[1;33m\u001B[0m\u001B[0m\n\u001B[0;32m    349\u001B[0m         \u001B[1;32mreturn\u001B[0m \u001B[0m_wrapped\u001B[0m\u001B[1;33m\u001B[0m\u001B[1;33m\u001B[0m\u001B[0m\n",
      "\u001B[1;32mc:\\users\\shion\\pycharmprojects\\projectroute112021\\venv\\lib\\site-packages\\elasticsearch\\client\\__init__.py\u001B[0m in \u001B[0;36msearch\u001B[1;34m(self, body, index, doc_type, params, headers)\u001B[0m\n\u001B[0;32m   1828\u001B[0m             \u001B[0mparams\u001B[0m\u001B[1;33m[\u001B[0m\u001B[1;34m\"from\"\u001B[0m\u001B[1;33m]\u001B[0m \u001B[1;33m=\u001B[0m \u001B[0mparams\u001B[0m\u001B[1;33m.\u001B[0m\u001B[0mpop\u001B[0m\u001B[1;33m(\u001B[0m\u001B[1;34m\"from_\"\u001B[0m\u001B[1;33m)\u001B[0m\u001B[1;33m\u001B[0m\u001B[1;33m\u001B[0m\u001B[0m\n\u001B[0;32m   1829\u001B[0m \u001B[1;33m\u001B[0m\u001B[0m\n\u001B[1;32m-> 1830\u001B[1;33m         return self.transport.perform_request(\n\u001B[0m\u001B[0;32m   1831\u001B[0m             \u001B[1;34m\"POST\"\u001B[0m\u001B[1;33m,\u001B[0m\u001B[1;33m\u001B[0m\u001B[1;33m\u001B[0m\u001B[0m\n\u001B[0;32m   1832\u001B[0m             \u001B[0m_make_path\u001B[0m\u001B[1;33m(\u001B[0m\u001B[0mindex\u001B[0m\u001B[1;33m,\u001B[0m \u001B[0mdoc_type\u001B[0m\u001B[1;33m,\u001B[0m \u001B[1;34m\"_search\"\u001B[0m\u001B[1;33m)\u001B[0m\u001B[1;33m,\u001B[0m\u001B[1;33m\u001B[0m\u001B[1;33m\u001B[0m\u001B[0m\n",
      "\u001B[1;32mc:\\users\\shion\\pycharmprojects\\projectroute112021\\venv\\lib\\site-packages\\elasticsearch\\transport.py\u001B[0m in \u001B[0;36mperform_request\u001B[1;34m(self, method, url, headers, params, body)\u001B[0m\n\u001B[0;32m    464\u001B[0m                         \u001B[1;32mraise\u001B[0m \u001B[0me\u001B[0m\u001B[1;33m\u001B[0m\u001B[1;33m\u001B[0m\u001B[0m\n\u001B[0;32m    465\u001B[0m                 \u001B[1;32melse\u001B[0m\u001B[1;33m:\u001B[0m\u001B[1;33m\u001B[0m\u001B[1;33m\u001B[0m\u001B[0m\n\u001B[1;32m--> 466\u001B[1;33m                     \u001B[1;32mraise\u001B[0m \u001B[0me\u001B[0m\u001B[1;33m\u001B[0m\u001B[1;33m\u001B[0m\u001B[0m\n\u001B[0m\u001B[0;32m    467\u001B[0m \u001B[1;33m\u001B[0m\u001B[0m\n\u001B[0;32m    468\u001B[0m             \u001B[1;32melse\u001B[0m\u001B[1;33m:\u001B[0m\u001B[1;33m\u001B[0m\u001B[1;33m\u001B[0m\u001B[0m\n",
      "\u001B[1;32mc:\\users\\shion\\pycharmprojects\\projectroute112021\\venv\\lib\\site-packages\\elasticsearch\\transport.py\u001B[0m in \u001B[0;36mperform_request\u001B[1;34m(self, method, url, headers, params, body)\u001B[0m\n\u001B[0;32m    425\u001B[0m \u001B[1;33m\u001B[0m\u001B[0m\n\u001B[0;32m    426\u001B[0m             \u001B[1;32mtry\u001B[0m\u001B[1;33m:\u001B[0m\u001B[1;33m\u001B[0m\u001B[1;33m\u001B[0m\u001B[0m\n\u001B[1;32m--> 427\u001B[1;33m                 status, headers_response, data = connection.perform_request(\n\u001B[0m\u001B[0;32m    428\u001B[0m                     \u001B[0mmethod\u001B[0m\u001B[1;33m,\u001B[0m\u001B[1;33m\u001B[0m\u001B[1;33m\u001B[0m\u001B[0m\n\u001B[0;32m    429\u001B[0m                     \u001B[0murl\u001B[0m\u001B[1;33m,\u001B[0m\u001B[1;33m\u001B[0m\u001B[1;33m\u001B[0m\u001B[0m\n",
      "\u001B[1;32mc:\\users\\shion\\pycharmprojects\\projectroute112021\\venv\\lib\\site-packages\\elasticsearch\\connection\\http_urllib3.py\u001B[0m in \u001B[0;36mperform_request\u001B[1;34m(self, method, url, params, body, timeout, ignore, headers)\u001B[0m\n\u001B[0;32m    289\u001B[0m                 \u001B[0mmethod\u001B[0m\u001B[1;33m,\u001B[0m \u001B[0mfull_url\u001B[0m\u001B[1;33m,\u001B[0m \u001B[0murl\u001B[0m\u001B[1;33m,\u001B[0m \u001B[0morig_body\u001B[0m\u001B[1;33m,\u001B[0m \u001B[0mduration\u001B[0m\u001B[1;33m,\u001B[0m \u001B[0mresponse\u001B[0m\u001B[1;33m.\u001B[0m\u001B[0mstatus\u001B[0m\u001B[1;33m,\u001B[0m \u001B[0mraw_data\u001B[0m\u001B[1;33m\u001B[0m\u001B[1;33m\u001B[0m\u001B[0m\n\u001B[0;32m    290\u001B[0m             )\n\u001B[1;32m--> 291\u001B[1;33m             \u001B[0mself\u001B[0m\u001B[1;33m.\u001B[0m\u001B[0m_raise_error\u001B[0m\u001B[1;33m(\u001B[0m\u001B[0mresponse\u001B[0m\u001B[1;33m.\u001B[0m\u001B[0mstatus\u001B[0m\u001B[1;33m,\u001B[0m \u001B[0mraw_data\u001B[0m\u001B[1;33m)\u001B[0m\u001B[1;33m\u001B[0m\u001B[1;33m\u001B[0m\u001B[0m\n\u001B[0m\u001B[0;32m    292\u001B[0m \u001B[1;33m\u001B[0m\u001B[0m\n\u001B[0;32m    293\u001B[0m         self.log_request_success(\n",
      "\u001B[1;32mc:\\users\\shion\\pycharmprojects\\projectroute112021\\venv\\lib\\site-packages\\elasticsearch\\connection\\base.py\u001B[0m in \u001B[0;36m_raise_error\u001B[1;34m(self, status_code, raw_data)\u001B[0m\n\u001B[0;32m    326\u001B[0m             \u001B[0mlogger\u001B[0m\u001B[1;33m.\u001B[0m\u001B[0mwarning\u001B[0m\u001B[1;33m(\u001B[0m\u001B[1;34m\"Undecodable raw error response from server: %s\"\u001B[0m\u001B[1;33m,\u001B[0m \u001B[0merr\u001B[0m\u001B[1;33m)\u001B[0m\u001B[1;33m\u001B[0m\u001B[1;33m\u001B[0m\u001B[0m\n\u001B[0;32m    327\u001B[0m \u001B[1;33m\u001B[0m\u001B[0m\n\u001B[1;32m--> 328\u001B[1;33m         raise HTTP_EXCEPTIONS.get(status_code, TransportError)(\n\u001B[0m\u001B[0;32m    329\u001B[0m             \u001B[0mstatus_code\u001B[0m\u001B[1;33m,\u001B[0m \u001B[0merror_message\u001B[0m\u001B[1;33m,\u001B[0m \u001B[0madditional_info\u001B[0m\u001B[1;33m\u001B[0m\u001B[1;33m\u001B[0m\u001B[0m\n\u001B[0;32m    330\u001B[0m         )\n",
      "\u001B[1;31mRequestError\u001B[0m: RequestError(400, 'parsing_exception', '[term] query does not support [@timestamp]')"
     ]
    }
   ],
   "source": [
    "from DataCollector import *\n",
    "print(len(importAllData()))\n"
   ]
  }
 ],
 "metadata": {
  "kernelspec": {
   "display_name": "Python 3",
   "language": "python",
   "name": "python3"
  },
  "language_info": {
   "codemirror_mode": {
    "name": "ipython",
    "version": 2
   },
   "file_extension": ".py",
   "mimetype": "text/x-python",
   "name": "python",
   "nbconvert_exporter": "python",
   "pygments_lexer": "ipython2",
   "version": "2.7.6"
  }
 },
 "nbformat": 4,
 "nbformat_minor": 0
}