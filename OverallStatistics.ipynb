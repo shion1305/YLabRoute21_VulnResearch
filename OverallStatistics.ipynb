{
 "cells": [
  {
   "cell_type": "code",
   "execution_count": 2,
   "outputs": [
    {
     "name": "stderr",
     "output_type": "stream",
     "text": [
      "c:\\users\\shion\\pycharmprojects\\projectroute112021\\venv\\lib\\site-packages\\elasticsearch\\connection\\base.py:200: ElasticsearchWarning: Elasticsearch built-in security features are not enabled. Without authentication, your cluster could be accessible to anyone. See https://www.elastic.co/guide/en/elasticsearch/reference/7.16/security-minimal-setup.html to enable security.\n",
      "  warnings.warn(message, category=ElasticsearchWarning)\n"
     ]
    },
    {
     "name": "stdout",
     "output_type": "stream",
     "text": [
      "Windows-10-10.0.22000-SP0\n",
      "Total size of data is... 17701\n"
     ]
    }
   ],
   "source": [
    "from DataCollector import importNotDetectData\n",
    "# Retrieve data from originData\n",
    "import platform\n",
    "data = importNotDetectData(2101,2201)\n",
    "print(platform.platform())\n",
    "print('Total size of data is... %d' % len(data))"
   ],
   "metadata": {
    "collapsed": false,
    "pycharm": {
     "name": "#%%\n"
    }
   }
  },
  {
   "cell_type": "markdown",
   "source": [
    "<hr>\n",
    "\n",
    "# destIPでの分類\n",
    "ハニーポットの総数は22個であることがわかった。\n",
    "\n",
    "not detectアクセスデータに関しては"
   ],
   "metadata": {
    "collapsed": false
   }
  },
  {
   "cell_type": "code",
   "execution_count": 3,
   "outputs": [
    {
     "name": "stdout",
     "output_type": "stream",
     "text": [
      "Total Num of Variation in GeoIp: 22\n",
      "       IP       total\n",
      "   13.49.30.108  2189\n",
      " 18.229.242.225  3024\n",
      " 165.22.204.232  2212\n",
      "  3.126.200.153  4615\n",
      "   139.59.35.98  2076\n",
      "    3.6.183.235  3254\n",
      "  45.32.119.106  1791\n",
      "  44.227.53.230  2155\n",
      " 52.213.219.192  2580\n",
      " 13.113.114.211  2406\n",
      " 13.209.159.235  2433\n",
      " 18.162.103.211  2267\n",
      "  199.247.11.85  2028\n",
      "    45.32.28.50  1697\n",
      "104.238.185.103  2070\n",
      " 157.245.204.40  1702\n",
      " 15.185.134.185  2079\n",
      "155.138.134.102  1757\n",
      "   52.74.78.244  1478\n",
      "  13.211.95.147  1928\n",
      "  133.34.169.17  1506\n",
      "   103.81.85.89    74\n"
     ]
    }
   ],
   "source": [
    "# ここでは、destination_ipでデータを分類している。\n",
    "from DataGrouper import groupByDestIp\n",
    "\n",
    "# ipアドレスで仕分ける\n",
    "geoIps = groupByDestIp(data)\n",
    "# とりあえず結果を見てみたい\n",
    "print('Total Num of Variation in GeoIp: %d' % len(geoIps))\n",
    "print('IP'.center(15), \"total\")\n",
    "for ip, hit in geoIps.items():\n",
    "    print(str(ip).rjust(15), str(len(hit)).rjust(5))"
   ],
   "metadata": {
    "collapsed": false,
    "pycharm": {
     "name": "#%%\n"
    }
   }
  },
  {
   "cell_type": "markdown",
   "source": [
    "# Signature ベースでの分類\n",
    "Signatureごとに仕分けた上で、\n",
    "\n",
    "受信IPにおいて同一IPからのアクセスがあるか確認したい\n",
    "(受信IPはdestination_ip)\n",
    "## 結果\n",
    "合計22のハニーポットが存在する中で、2つ以上で同じシグネチャーのアクセスが観測できれば、「流行している攻撃」と解釈することが可能であるが、\n",
    "\n",
    "非常に多くのnot detectedについて流行していることが確認された\n",
    "\n",
    "→既知のものが多く含まれている可能性が高い"
   ],
   "metadata": {
    "collapsed": false
   }
  },
  {
   "cell_type": "code",
   "execution_count": 4,
   "outputs": [
    {
     "name": "stdout",
     "output_type": "stream",
     "text": [
      "                    signature                      Spots Counts\n",
      "/v1.24/containers/create                              22   7077\n",
      "/goform/setUsbUnload/.js                              22   1116\n",
      "/backupmgt/localJob.php                               22    281\n",
      "/v1.40/containers/create                              22    216\n",
      "/RPC2                                                 21  31026\n",
      "/                                                     21    232\n",
      "/_config/query_servers/cmd                            21     79\n",
      "/body.txt                                             21     27\n",
      "/ws/v1/cluster/apps                                   20     98\n",
      "/include/makecvs.php                                  20     92\n",
      "/tools.cgi                                            20     41\n",
      "/checkValid                                           19    590\n",
      "/console/css/%252e%252e/consolejndi.portal            19     42\n",
      "/cgi-bin/masterCGI                                    19     33\n",
      "/cgibin/mainfunction.cgi&action=login&keyPath=wget    19     19\n",
      "/cgibin/mainfunction.cgi&action=login&keyPath=wget    19     19\n",
      "/run                                                  18    603\n",
      "/console/css/%252e%252e%252fconsolejndi.portal        16    168\n",
      "/live/CPEManager/AXCampaignManager/delete_cpes_by_    16     43\n",
      "/goform/SystemCommand                                 16     42\n",
      "/ctrlt/DeviceUpgrade_1                                16     34\n",
      "/zhnping.cmd                                          16     24\n",
      "/cgibin/mainfunction.cgi&action=login&keyPath=wget    16     16\n",
      "/vendor/phpunit/phpunit/src/Util/PHP/eval-stdin.ph    15    162\n",
      "/AdminService/urest/v1/LogonResource                  15     40\n",
      "/console/css/%252e%252e%252fconsole.portal            15     29\n",
      "/getclock                                             15     22\n",
      "/cgi-bin/system_mgr.cgi                               14     67\n",
      "/v1.26/containers/create                              14     28\n",
      "/check_browser                                        14     22\n",
      "/core/vendor/phpunit/phpunit/src/Util/PHP/eval-std    13    150\n",
      "/editBlackAndWhiteList                                13    130\n",
      "/cgi-bin/php                                          13     14\n",
      "/cgi-bin/php5                                         13     14\n",
      "/cgi-bin/php-cgi                                      13     14\n",
      "/cgi-bin/php.cgi                                      13     14\n",
      "/cgi-bin/php4                                         13     14\n",
      "/storfs-asup                                          12    118\n",
      "/users                                                12     64\n",
      "/GponForm/diag_Form                                   12     32\n",
      "/q                                                    11    105\n",
      "/shellcd%20/tmp%20%7C%7C%20cd%20/run%20%7C%7C%20cd    10     26\n",
      "/api/getServices                                      10     23\n",
      "/shell                                                10     19\n",
      "/wls-wsat/CoordinatorPortType11                       10     16\n",
      "/struts2-rest-showcase/orders/3                        9    143\n",
      "/guest_auth/guestIsUp.php                              9     65\n",
      "/wsman                                                 9     22\n",
      "/tmui/login.jsp/..;/tmui/locallb/workspace/tmshCmd     9     13\n",
      "/cgi-bin/supervisor/adcommand.cgi                      9     13\n",
      "/goform/setSysAdm                                      8    148\n",
      "/cgi-bin/admin/servetest                               8    146\n",
      "/sys_config_valid.xgi                                  8     42\n",
      "/cgi-bin/authLogin.cgi                                 8     20\n",
      "/service/extdirect                                     8     17\n",
      "/apply.cgi                                             8     12\n",
      "//uapi-cgi/certmngr.cgi                                7    114\n",
      "/cgi-bin/network_ddns.cgi                              7     24\n",
      "/mgmt/tm/util/bash                                     7     11\n",
      "/login.htm                                             6    154\n",
      "/cgi/networkDiag.cgi                                   6    144\n",
      "/assets/php/upload.php                                 6    138\n",
      "/search.php                                            6    137\n",
      "/rest/tinymce/1/macro/preview                          6      6\n",
      "/wls-wsat/CoordinatorPortType                          5    788\n",
      "/console/images/%252E%252E%252Fconsole.portal          5    629\n",
      "/graph_realtime.php                                    5    143\n",
      "/orders/3                                              5    140\n",
      "/cn/cmd                                                5     15\n",
      "/shell&cd%20%2Ftmp%3B%20wget%20http%3A%2F%2F195.13     5      6\n",
      "/chkisg.htm%3FSip%3D1.1.1.1%20%7C%20wget%20http%3A     5      5\n",
      "/cgibin/mainfunction.cgi&action=login&keyPath=wget     5      5\n",
      "/shell%20                                              5      5\n",
      "/shell%00                                              5      5\n",
      "/goform/setmac                                         4    141\n",
      "/solr/%7B%7Bcore%7D%7D/select                          4    136\n",
      "/solr/%7B%7Bcore%7D%7D/dataimport                      4    130\n",
      "/nrdh.php                                              4     17\n",
      "/wls-wsat/RegistrationPortTypeRPC                      4     14\n",
      "/wikindex.php                                          4     14\n",
      "/new-index.php                                         4     14\n",
      "/baindex.php                                           4     14\n",
      "/zindex.php                                            4     14\n",
      "/op_type=ping&destination=cd%20/tmp;%20wget%20http     4      7\n",
      "/cgi-bin-igd/netcore_get.cgi                           4      6\n",
      "/cgibin/mainfunction.cgi&action=login&keyPath=wget     4      5\n",
      "/tos/index.php                                         4      5\n",
      "/8UsA1.sh                                              4      5\n",
      "/cgi-bin/test-cgi                                      4      4\n",
      "/_cat/indices                                          4      4\n",
      "/include/exportUser.php                                4      4\n",
      "//console/css/%252e%252e%252fconsolejndi.portal        3     29\n",
      "/jbossass/jbossass.jsp                                 3     28\n",
      "/druid/indexer/v1/sampler                              3      5\n",
      "/password_change.cgi                                   3      4\n",
      "/sntpcfg.cgi                                           3      3\n",
      "/secure/ContactAdministrators.jspa                     3      3\n",
      "/restapps/applications.php                             3      3\n",
      "/v1.37/containers/create                               3      3\n",
      "/struts2-showcase/index.action                         3      3\n",
      "/v1.39/containers/create                               3      3\n",
      "/cgi-bin/login.cgi                                     2    139\n",
      "/var                                                   2    133\n",
      "/upload                                                2    118\n",
      "/pandora_console/index.php                             2     37\n",
      "/_async/AsyncResponseService                           2     26\n",
      "/raidh.php                                             2      8\n",
      "/nette.micro                                           2      3\n",
      "/boardDataWW.php                                       2      3\n",
      "/op_type=ping&destination=cd%20/tmp;%20wget%20http     2      2\n",
      "/cgibin/mainfunction.cgi&action=login&keyPath=wget     2      2\n",
      "/cgi-bin/rtpd.cgi                                      2      2\n",
      "/str/showcase.action                                   2      2\n",
      "/goform/formSysCmd                                     2      2\n",
      "/gbr.php                                               2      2\n",
      "/portal/home.jsp                                       2      2\n",
      "/cgi-bin/%25%25%25332%25%25365%25%25%25332%25%2536     2      2\n",
      "/admin/cms/login.action                                2      2\n",
      "/cgi-bin/printbook                                     1      8\n",
      "/actions/authenticate.php                              1      6\n",
      "/javax.faces.resource/dynamiccontent.properties.xh     1      6\n",
      "/api/jsonws/invoke                                     1      4\n",
      "/login.cgi.php                                         1      3\n",
      "//vendor/phpunit/phpunit/src/Util/PHP/eval-stdin.p     1      2\n",
      "/v1/agent/service/register                             1      2\n",
      "/edit/server/                                          1      2\n",
      "/tmui/login.jsp/..;/tmui/locallib/workplace/tmshCm     1      2\n",
      "/setup.cgi                                             1      2\n",
      "/v1.23/containers/create                               1      2\n",
      "/pingcmd.cmd                                           1      1\n",
      "HTTP/1.1                                               1      1\n",
      "/op_type=ping&destination=cd%20/tmp;%20wget%20http     1      1\n",
      "/vpns/portal/scripts/newbm.pl                          1      1\n",
      "/op_type=ping&destination=cd%20/tmp;%20wget%20http     1      1\n",
      "/index.php                                             1      1\n",
      "/cgi-bin/bconf.cgi                                     1      1\n",
      "/v1.38/containers/create                               1      1\n",
      "/shell%3Fcd%20%2Ftmp%3B%20echo%20%3ENiGGea%20%7C%7     1      1\n",
      "/shell%3Fcd%20%2Ftmp%3B%20echo%20%3ENiGGea%20%7C%7     1      1\n",
      "/cgi-bin/ping.sh                                       1      1\n",
      "/incl/image_test.shtml                                 1      1\n",
      "/cgibin/mainfunction.cgi&action=login&keyPath=wget     1      1\n",
      "/_config/query_servers/afhh                            1      1\n",
      "/system                                                1      1\n",
      "/setup.cgi%3Fnext_file%3Dnetgear.cfg%26todo%3Dsysc     1      1\n",
      "/_search                                               1      1\n",
      "/cgi-bin/net_ping.cgi                                  1      1\n",
      "/service/v1/createUser                                 1      1\n",
      "/goform/formWsc                                        1      1\n",
      "/v1.35/containers/create                               1      1\n",
      "/cgibin/mainfunction.cgi&action=login&keyPath=cd%2     1      1\n",
      "/cgibin/mainfunction.cgi&action=login&keyPath=cd%2     1      1\n",
      "/en/php/usb_sync.php                                   1      1\n",
      "/gbrgbr.php                                            1      1\n",
      "/_config/query_servers/hvkfnjff                        1      1\n",
      "/_config/query_servers/hqatiuy                         1      1\n",
      "/.wgetrc                                               1      1\n"
     ]
    }
   ],
   "source": [
    "from DataGrouper import groupBySignature\n",
    "#ここでは、同じsignature内に同一のipからのアクセスがどれくらいあるか確認する。\n",
    "dataS = groupBySignature(data)\n",
    "# result1はsignatureごとに分類した上に同一destination_ipについて整理したもの\n",
    "result1 = {}\n",
    "for s, hits in dataS.items():\n",
    "    #それぞれのIPについて分類する。\n",
    "    resultIps = {}\n",
    "    for hit in hits:\n",
    "        if not hit['_source']['destination_ip'] in resultIps:\n",
    "            resultIps[hit['_source']['destination_ip']] = []\n",
    "        resultIps[hit['_source']['destination_ip']].append(hit)\n",
    "    # Signature s についての分類が完了\n",
    "    # データとして格納\n",
    "    result1[s] = resultIps\n",
    "# result1を並び変える。\n",
    "# len(x[1])refers to the size of the variation of destination_ip\n",
    "# ↑ if this value is bigger than 1, it means that it is prevalent\n",
    "result1 = sorted(result1.items(), key=lambda x: len(dataS[x[0]]), reverse=True)\n",
    "result1 = sorted(result1, key=lambda x: len(x[1]), reverse=True)\n",
    "# Print and Export result1 as \"signatures_by_num_destIP(1-10).csv\"\n",
    "f = open(\"resultData/signatures_by_num_destIP(1-10).csv\", \"wb\")\n",
    "# 書き出す項目について整理しておく\n",
    "print(\"signature\".center(50), \"Spots\", \"Counts\")\n",
    "f.write('Signature,Spots,Hits\\n'.encode('utf-8'))\n",
    "for s, r in result1:\n",
    "    print(s[:50].ljust(50), str(len(r)).rjust(5), str(len(dataS[s])).rjust(6))\n",
    "    b = (s + ',' + str(len(r)) + ',' + str(len(dataS[s])) + '\\n').encode('utf-8')\n",
    "    f.write(b)\n",
    "f.flush()\n",
    "f.close()"
   ],
   "metadata": {
    "collapsed": false,
    "pycharm": {
     "name": "#%%\n"
    }
   }
  },
  {
   "cell_type": "markdown",
   "source": [
    "# データの整合性\n",
    "データの整合性について気になったので以下で確認してみた。\n",
    "\n",
    "not detectではポットからポット自身に送っているものはないというが、どこかで確認した気がする。\n",
    "## 結論\n",
    "\n",
    "not detectラベルがついたデータの中では、\n",
    "- source_ipとgeoip>ipは完全に一致\n",
    "- destination_ipとsource_ipが同じであるものは見つからなかった←(おそらくElasticSearchをいじっている中で同じものに出くわした覚えがあるのでこれについては追加で調査したい)"
   ],
   "metadata": {
    "collapsed": false
   }
  },
  {
   "cell_type": "code",
   "execution_count": null,
   "outputs": [],
   "source": [
    "from DataOutputter import *\n",
    "import importlib\n",
    "\n",
    "result2 = []\n",
    "result3 = []\n",
    "for d in data:\n",
    "    if 'ip' in d['_source']['geoip']:\n",
    "        if not str(d['_source']['source_ip']) == str(d['_source']['geoip']['ip']):\n",
    "            result2.append(d)\n",
    "        if str(d['_source']['destination_ip']) == str(d['_source']['geoip']['ip']):\n",
    "            result2.append(d)\n",
    "    else:\n",
    "        result3.append(d)\n",
    "print(len(result2))\n",
    "print(len(result3))\n",
    "easyOutput(data=result3, folder='Unknown')"
   ],
   "metadata": {
    "collapsed": false,
    "pycharm": {
     "name": "#%%\n"
    }
   }
  },
  {
   "cell_type": "markdown",
   "source": [
    "# グラフ化\n",
    "以下のコードでは、7日ごとに全データを集計した。"
   ],
   "metadata": {
    "collapsed": false
   }
  },
  {
   "cell_type": "code",
   "execution_count": 7,
   "outputs": [
    {
     "data": {
      "text/plain": "<Figure size 864x216 with 1 Axes>",
      "image/png": "[encoded data removed]"
     },
     "metadata": {
      "needs_background": "light"
     },
     "output_type": "display_data"
    }
   ],
   "source": [
    "from Grapher import *\n",
    "import matplotlib.pyplot as plt\n",
    "plt.rcParams[\"figure.figsize\"] = [12, 3]\n",
    "starting = pd.to_datetime(\"2021/1/1 00:00:00\")\n",
    "ending = pd.to_datetime(\"2021/11/1 00:00:00\")\n",
    "visualizeTimeData(data, starting=starting.timestamp(), ending=ending.timestamp(), title='not detect 全データの期間分布(7日ごと)',\n",
    "                  loc=\"not detect 全データの期間分布\")"
   ],
   "metadata": {
    "collapsed": false,
    "pycharm": {
     "name": "#%%\n"
    }
   }
  },
  {
   "cell_type": "markdown",
   "source": [
    "8.27から9.2までのデータが気になる..."
   ],
   "metadata": {
    "collapsed": false
   }
  },
  {
   "cell_type": "code",
   "execution_count": 8,
   "outputs": [
    {
     "data": {
      "text/plain": "<Figure size 864x216 with 1 Axes>",
      "image/png": "[encoded data removed]"
     },
     "metadata": {
      "needs_background": "light"
     },
     "output_type": "display_data"
    }
   ],
   "source": [
    "starting = pd.to_datetime(\"2021/8/27 00:00:00\")\n",
    "ending = pd.to_datetime(\"2021/9/3 00:00:00\")\n",
    "visualizeTimeData(data, starting=starting.timestamp(), ending=ending.timestamp(), title='not detect 8.27~9.2の詳細(8時間ごと)',\n",
    "                  loc='8.27~9.2の調査',\n",
    "                  period=8 * 60 * 60, x_axis='hour')"
   ],
   "metadata": {
    "collapsed": false,
    "pycharm": {
     "name": "#%%\n"
    }
   }
  },
  {
   "cell_type": "markdown",
   "source": [
    "もう少し絞って見てみる"
   ],
   "metadata": {
    "collapsed": false
   }
  },
  {
   "cell_type": "code",
   "execution_count": 6,
   "outputs": [
    {
     "data": {
      "text/plain": "<Figure size 576x216 with 1 Axes>",
      "image/png": "[encoded data removed]"
     },
     "metadata": {
      "needs_background": "light"
     },
     "output_type": "display_data"
    }
   ],
   "source": [
    "from Grapher import *\n",
    "import matplotlib.pyplot as plt\n",
    "plt.rcParams[\"figure.figsize\"] = [8, 3]\n",
    "starting = pd.to_datetime(\"2021/8/30 8:00:00\")\n",
    "ending = pd.to_datetime(\"2021/8/31 16:00:00\")\n",
    "visualizeTimeData(records=data, starting=starting.timestamp(), ending=ending.timestamp(),\n",
    "                  title='not detect 8.30~8.31の詳細(1時間ごと)', loc='8.27~9.2の調査',\n",
    "                  period=1 * 60 * 60, x_axis='hour')"
   ],
   "metadata": {
    "collapsed": false,
    "pycharm": {
     "name": "#%%\n"
    }
   }
  },
  {
   "cell_type": "markdown",
   "source": [
    "以下のコードではシグネチャーごとのデータの可視化を行っている。"
   ],
   "metadata": {
    "collapsed": false
   }
  },
  {
   "cell_type": "code",
   "execution_count": 9,
   "outputs": [
    {
     "name": "stdout",
     "output_type": "stream",
     "text": [
      "1 / 157 has Completed...\n",
      "2 / 157 has Completed...\n",
      "3 / 157 has Completed...\n",
      "4 / 157 has Completed...\n",
      "5 / 157 has Completed...\n",
      "6 / 157 has Completed...\n",
      "7 / 157 has Completed...\n",
      "8 / 157 has Completed...\n",
      "9 / 157 has Completed...\n",
      "10 / 157 has Completed...\n",
      "11 / 157 has Completed...\n",
      "12 / 157 has Completed...\n",
      "13 / 157 has Completed...\n",
      "14 / 157 has Completed...\n",
      "15 / 157 has Completed...\n",
      "16 / 157 has Completed...\n",
      "17 / 157 has Completed...\n",
      "18 / 157 has Completed...\n",
      "19 / 157 has Completed...\n",
      "20 / 157 has Completed...\n",
      "21 / 157 has Completed...\n",
      "22 / 157 has Completed...\n",
      "23 / 157 has Completed...\n",
      "24 / 157 has Completed...\n",
      "25 / 157 has Completed...\n",
      "26 / 157 has Completed...\n",
      "27 / 157 has Completed...\n",
      "28 / 157 has Completed...\n",
      "29 / 157 has Completed...\n",
      "30 / 157 has Completed...\n",
      "31 / 157 has Completed...\n",
      "32 / 157 has Completed...\n",
      "33 / 157 has Completed...\n",
      "34 / 157 has Completed...\n",
      "35 / 157 has Completed...\n",
      "36 / 157 has Completed...\n",
      "37 / 157 has Completed...\n",
      "38 / 157 has Completed...\n",
      "39 / 157 has Completed...\n",
      "40 / 157 has Completed...\n",
      "41 / 157 has Completed...\n",
      "42 / 157 has Completed...\n",
      "43 / 157 has Completed...\n",
      "44 / 157 has Completed...\n",
      "45 / 157 has Completed...\n",
      "46 / 157 has Completed...\n",
      "47 / 157 has Completed...\n",
      "48 / 157 has Completed...\n",
      "49 / 157 has Completed...\n",
      "50 / 157 has Completed...\n",
      "51 / 157 has Completed...\n",
      "52 / 157 has Completed...\n",
      "53 / 157 has Completed...\n",
      "54 / 157 has Completed...\n",
      "55 / 157 has Completed...\n",
      "56 / 157 has Completed...\n",
      "57 / 157 has Completed...\n",
      "58 / 157 has Completed...\n",
      "59 / 157 has Completed...\n",
      "60 / 157 has Completed...\n",
      "61 / 157 has Completed...\n",
      "62 / 157 has Completed...\n",
      "63 / 157 has Completed...\n",
      "64 / 157 has Completed...\n",
      "65 / 157 has Completed...\n",
      "66 / 157 has Completed...\n",
      "67 / 157 has Completed...\n",
      "68 / 157 has Completed...\n",
      "69 / 157 has Completed...\n",
      "70 / 157 has Completed...\n",
      "71 / 157 has Completed...\n",
      "72 / 157 has Completed...\n",
      "73 / 157 has Completed...\n",
      "74 / 157 has Completed...\n",
      "75 / 157 has Completed...\n",
      "76 / 157 has Completed...\n",
      "77 / 157 has Completed...\n",
      "78 / 157 has Completed...\n",
      "79 / 157 has Completed...\n",
      "80 / 157 has Completed...\n",
      "81 / 157 has Completed...\n",
      "82 / 157 has Completed...\n",
      "83 / 157 has Completed...\n",
      "84 / 157 has Completed...\n",
      "85 / 157 has Completed...\n",
      "86 / 157 has Completed...\n",
      "87 / 157 has Completed...\n",
      "88 / 157 has Completed...\n",
      "89 / 157 has Completed...\n",
      "90 / 157 has Completed...\n",
      "91 / 157 has Completed...\n",
      "92 / 157 has Completed...\n",
      "93 / 157 has Completed...\n",
      "94 / 157 has Completed...\n",
      "95 / 157 has Completed...\n",
      "96 / 157 has Completed...\n",
      "97 / 157 has Completed...\n",
      "98 / 157 has Completed...\n",
      "99 / 157 has Completed...\n",
      "100 / 157 has Completed...\n",
      "101 / 157 has Completed...\n",
      "102 / 157 has Completed...\n",
      "103 / 157 has Completed...\n",
      "104 / 157 has Completed...\n",
      "105 / 157 has Completed...\n",
      "106 / 157 has Completed...\n",
      "107 / 157 has Completed...\n",
      "108 / 157 has Completed...\n",
      "109 / 157 has Completed...\n",
      "110 / 157 has Completed...\n",
      "111 / 157 has Completed...\n",
      "112 / 157 has Completed...\n",
      "113 / 157 has Completed...\n",
      "114 / 157 has Completed...\n",
      "115 / 157 has Completed...\n",
      "116 / 157 has Completed...\n",
      "117 / 157 has Completed...\n",
      "118 / 157 has Completed...\n",
      "119 / 157 has Completed...\n",
      "120 / 157 has Completed...\n",
      "121 / 157 has Completed...\n",
      "122 / 157 has Completed...\n",
      "123 / 157 has Completed...\n",
      "124 / 157 has Completed...\n",
      "125 / 157 has Completed...\n",
      "126 / 157 has Completed...\n",
      "127 / 157 has Completed...\n",
      "128 / 157 has Completed...\n",
      "129 / 157 has Completed...\n",
      "130 / 157 has Completed...\n",
      "131 / 157 has Completed...\n",
      "132 / 157 has Completed...\n",
      "133 / 157 has Completed...\n",
      "134 / 157 has Completed...\n",
      "135 / 157 has Completed...\n",
      "136 / 157 has Completed...\n",
      "137 / 157 has Completed...\n",
      "138 / 157 has Completed...\n",
      "139 / 157 has Completed...\n",
      "140 / 157 has Completed...\n",
      "141 / 157 has Completed...\n",
      "142 / 157 has Completed...\n",
      "143 / 157 has Completed...\n",
      "144 / 157 has Completed...\n",
      "145 / 157 has Completed...\n",
      "146 / 157 has Completed...\n",
      "147 / 157 has Completed...\n",
      "148 / 157 has Completed...\n",
      "149 / 157 has Completed...\n",
      "150 / 157 has Completed...\n",
      "151 / 157 has Completed...\n",
      "152 / 157 has Completed...\n",
      "153 / 157 has Completed...\n",
      "154 / 157 has Completed...\n",
      "155 / 157 has Completed...\n",
      "156 / 157 has Completed...\n",
      "157 / 157 has Completed...\n"
     ]
    }
   ],
   "source": [
    "from Grapher import *\n",
    "\n",
    "plt.rcParams[\"figure.figsize\"] = [12, 3]\n",
    "starting = pd.to_datetime(\"2021/1/1 00:00:00\")\n",
    "ending = pd.to_datetime(\"2021/11/1 00:00:00\")\n",
    "i = 0\n",
    "for s, d in dataS.items():\n",
    "    i = i + 1\n",
    "    visualizeTimeData(d, starting=starting.timestamp(), ending=ending.timestamp(), title=str(s) + 'の期間分布',\n",
    "                      loc='Signatureごとの期間分布')\n",
    "    plt.close()\n",
    "    print('%d / %d has Completed...' % (i, len(dataS.items())))"
   ],
   "metadata": {
    "collapsed": false,
    "pycharm": {
     "name": "#%%\n"
    }
   }
  },
  {
   "cell_type": "markdown",
   "source": [
    "↓パスごとの統計結果"
   ],
   "metadata": {
    "collapsed": false
   }
  },
  {
   "cell_type": "code",
   "execution_count": 10,
   "outputs": [
    {
     "name": "stdout",
     "output_type": "stream",
     "text": [
      "[31026, 7077, 1116, 788, 629, 603, 590, 281, 232, 216, 168, 162, 154, 150, 148, 146, 144, 143, 143, 141, 140, 139, 138, 137, 136, 133, 130, 130, 118, 118, 114, 105, 98, 92, 79, 67, 65, 64, 43, 42, 42, 42, 41, 40, 37, 34, 33, 32, 29, 29, 28, 28, 27, 26, 26, 24, 24, 23, 22, 22, 22, 20, 19, 19, 19, 17, 17, 16, 16, 15, 14, 14, 14, 14, 14, 14, 14, 14, 14, 14, 13, 13, 12, 11, 8, 8, 7, 6, 6, 6, 6, 6, 5, 5, 5, 5, 5, 5, 5, 5, 4, 4, 4, 4, 4, 3, 3, 3, 3, 3, 3, 3, 3, 3, 2, 2, 2, 2, 2, 2, 2, 2, 2, 2, 2, 2, 2, 2, 2, 1, 1, 1, 1, 1, 1, 1, 1, 1, 1, 1, 1, 1, 1, 1, 1, 1, 1, 1, 1, 1, 1, 1, 1, 1, 1, 1, 1]\n"
     ]
    },
    {
     "data": {
      "text/plain": "<Figure size 144x144 with 1 Axes>",
      "image/png": "[encoded data removed]"
     },
     "metadata": {
      "needs_background": "light"
     },
     "output_type": "display_data"
    }
   ],
   "source": [
    "counts=[]\n",
    "for s,d in dataS.items():\n",
    "    counts.append(len(d))\n",
    "counts=sorted(counts,reverse=True)\n",
    "print(counts)\n",
    "signatureRoundGraph(keys=None,data=counts)\n"
   ],
   "metadata": {
    "collapsed": false,
    "pycharm": {
     "name": "#%%\n"
    }
   }
  },
  {
   "cell_type": "code",
   "execution_count": null,
   "outputs": [],
   "source": [
    "for d in dataS['/RPC2'][:20]:\n",
    "    print(d['_id'])"
   ],
   "metadata": {
    "collapsed": false,
    "pycharm": {
     "name": "#%%\n"
    }
   }
  }
 ],
 "metadata": {
  "kernelspec": {
   "display_name": "Python 3",
   "language": "python",
   "name": "python3"
  },
  "language_info": {
   "codemirror_mode": {
    "name": "ipython",
    "version": 2
   },
   "file_extension": ".py",
   "mimetype": "text/x-python",
   "name": "python",
   "nbconvert_exporter": "python",
   "pygments_lexer": "ipython2",
   "version": "2.7.6"
  },
  "pycharm": {
   "stem_cell": {
    "cell_type": "raw",
    "source": [
     "from IPython.display import set_matplotlib_for"
    ],
    "metadata": {
     "collapsed": false
    }
   }
  }
 },
 "nbformat": 4,
 "nbformat_minor": 0
}