{
 "cells": [
  {
   "cell_type": "markdown",
   "source": [
    "それぞれのパスに対応した、AnalysisMemoを作成するための作業用コード。\n",
    "- 確認されたハニーポットの数(destIpで振り分け)\n",
    "- ヒット数\n",
    "- データの更新日\n",
    "\n",
    "を自動で記載している。"
   ],
   "metadata": {
    "collapsed": false,
    "pycharm": {
     "name": "#%% md\n"
    }
   }
  },
  {
   "cell_type": "code",
   "execution_count": null,
   "outputs": [],
   "source": [
    "from DataGrouper import groupBySignature\n",
    "from DataCollector import importNotDetectData\n",
    "\n",
    "data = importNotDetectData(2101, 2201)\n",
    "dataS = groupBySignature(data)\n",
    "result1 = {}\n",
    "for s, hits in dataS.items():\n",
    "    resultIps = {}\n",
    "    for hit in hits:\n",
    "        if not hit['_source']['destination_ip'] in resultIps:\n",
    "            resultIps[hit['_source']['destination_ip']] = []\n",
    "        resultIps[hit['_source']['destination_ip']].append(hit)\n",
    "    result1[s] = resultIps\n",
    "result1 = sorted(result1.items(), key=lambda x: len(dataS[x[0]]), reverse=True)\n",
    "result1 = sorted(result1, key=lambda x: len(x[1]), reverse=True)\n",
    "\n",
    "from FormatStandizer import getTimeStrNow\n",
    "\n",
    "for s, r in result1:\n",
    "    filename = s\n",
    "    # replace invalid character\n",
    "    invalid = '<>:\"/\\|?* '\n",
    "    for char in invalid:\n",
    "        filename = filename.replace(char, '-')\n",
    "    try:\n",
    "        f = open((\"Memo/\" + filename)[:50] + \".md\", \"x\")\n",
    "    except FileExistsError:\n",
    "        i = 1\n",
    "        while True:\n",
    "            try:\n",
    "                f = open((\"Memo/\" + filename)[:50] + \"-\" + str(i) + \".md\", \"x\")\n",
    "                break\n",
    "            except FileExistsError:\n",
    "                i += 1\n",
    "    f.write(\"# Analysis for \" + s)\n",
    "    f.write(\"\\n| POTS | COUNT | CVE | FILE CREATED |\")\n",
    "    f.write(\"\\n|---|---|---|---|\")\n",
    "    f.write(\"\\n| \" + str(len(r)) + \" | \" + str(len(dataS[s])) + \" | | \" + getTimeStrNow() + \" |\\n\")\n",
    "    f.write(\"\\n## CVE: \")\n",
    "    f.close()"
   ],
   "metadata": {
    "collapsed": false,
    "pycharm": {
     "name": "#%%\n"
    }
   }
  }
 ],
 "metadata": {
  "kernelspec": {
   "display_name": "Python 3",
   "language": "python",
   "name": "python3"
  },
  "language_info": {
   "codemirror_mode": {
    "name": "ipython",
    "version": 2
   },
   "file_extension": ".py",
   "mimetype": "text/x-python",
   "name": "python",
   "nbconvert_exporter": "python",
   "pygments_lexer": "ipython2",
   "version": "2.7.6"
  }
 },
 "nbformat": 4,
 "nbformat_minor": 0
}