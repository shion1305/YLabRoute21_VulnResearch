{
 "cells": [
  {
   "cell_type": "markdown",
   "source": [
    "# まず下準備..."
   ],
   "metadata": {
    "collapsed": false,
    "pycharm": {
     "name": "#%% md\n"
    }
   }
  },
  {
   "cell_type": "code",
   "execution_count": 2,
   "outputs": [
    {
     "name": "stdout",
     "output_type": "stream",
     "text": [
      "Windows-10-10.0.22000-SP0\n",
      "Total size of data is... 47321\n"
     ]
    }
   ],
   "source": [
    "# Retrieve data from originData\n",
    "import platform\n",
    "from DataCollector import importNotDetectData\n",
    "from DataGrouper import groupBySignature\n",
    "\n",
    "data = importNotDetectData(2101, 2201)\n",
    "print(platform.platform())\n",
    "print('Total size of data is... %d' % len(data))\n",
    "#ここでは、同じsignature内に同一のipからのアクセスがどれくらいあるか確認する。\n",
    "dataS = groupBySignature(data)\n",
    "# result1はsignatureごとに分類した上に同一destination_ipについて整理したもの"
   ],
   "metadata": {
    "collapsed": false,
    "pycharm": {
     "name": "#%%\n"
    }
   }
  },
  {
   "cell_type": "markdown",
   "source": [
    "# Exploit for NVMS-9000\n",
    "- url: /editBlackAndWhiteList\n",
    "\n",
    "全て`<request version=\"1.0\" systemType=\"NVMS-9000\"`を含む。\n",
    "\n",
    "→これら全てNVMS-9000を対象にしたもの"
   ],
   "metadata": {
    "collapsed": false,
    "pycharm": {
     "name": "#%% md\n"
    }
   }
  },
  {
   "cell_type": "code",
   "execution_count": 9,
   "metadata": {
    "collapsed": true,
    "pycharm": {
     "name": "#%%\n"
    }
   },
   "outputs": [
    {
     "name": "stdout",
     "output_type": "stream",
     "text": [
      "True\n",
      "{'8080': 105, '81': 25}\n"
     ]
    }
   ],
   "source": [
    "target = dataS['/editBlackAndWhiteList']\n",
    "i = 0\n",
    "for d in target:\n",
    "    if (d['_source']['request'].count(\"<request version=\\\"1.0\\\" systemType=\\\"NVMS-9000\\\"\") == 1):\n",
    "        i += 1\n",
    "print(len(dataS['/editBlackAndWhiteList']) == i)"
   ]
  }
 ],
 "metadata": {
  "kernelspec": {
   "display_name": "Python 3",
   "language": "python",
   "name": "python3"
  },
  "language_info": {
   "codemirror_mode": {
    "name": "ipython",
    "version": 2
   },
   "file_extension": ".py",
   "mimetype": "text/x-python",
   "name": "python",
   "nbconvert_exporter": "python",
   "pygments_lexer": "ipython2",
   "version": "2.7.6"
  }
 },
 "nbformat": 4,
 "nbformat_minor": 0
}