{
 "cells": [
  {
   "cell_type": "code",
   "execution_count": 1,
   "metadata": {
    "collapsed": true
   },
   "outputs": [
    {
     "name": "stderr",
     "output_type": "stream",
     "text": [
      "c:\\users\\shion\\pycharmprojects\\projectroute112021\\venv\\lib\\site-packages\\elasticsearch\\connection\\base.py:200: ElasticsearchWarning: Elasticsearch built-in security features are not enabled. Without authentication, your cluster could be accessible to anyone. See https://www.elastic.co/guide/en/elasticsearch/reference/7.16/security-minimal-setup.html to enable security.\n",
      "  warnings.warn(message, category=ElasticsearchWarning)\n"
     ]
    },
    {
     "name": "stdout",
     "output_type": "stream",
     "text": [
      "{'name': 'node-103', 'cluster_name': 'ylab-cluster', 'cluster_uuid': 'iZvBu9beSk2ufOSK_k992w', 'version': {'number': '7.16.0', 'build_flavor': 'default', 'build_type': 'deb', 'build_hash': '6fc81662312141fe7691d7c1c91b8658ac17aa0d', 'build_date': '2021-12-02T15:46:35.697268109Z', 'build_snapshot': False, 'lucene_version': '8.10.1', 'minimum_wire_compatibility_version': '6.8.0', 'minimum_index_compatibility_version': '6.0.0-beta1'}, 'tagline': 'You Know, for Search'}\n",
      "xpot_accesslog-2020.10\n",
      "xpot_accesslog-2020.11\n",
      "xpot_accesslog-2020.12\n",
      "xpot_accesslog-2021.01\n",
      "xpot_accesslog-2021.02\n",
      "xpot_accesslog-2021.03\n",
      "xpot_accesslog-2021.04\n",
      "xpot_accesslog-2021.05\n",
      "xpot_accesslog-2021.06\n",
      "xpot_accesslog-2021.07\n",
      "xpot_accesslog-2021.08\n",
      "xpot_accesslog-2021.09\n",
      "xpot_accesslog-2021.10\n",
      "xpot_accesslog-2021.11\n",
      "xpot_accesslog-2021.12\n",
      "xpot_response_bodies-2021.05\n",
      "xpot_response_bodies-2021.07\n",
      "xpot_response_bodies-2021.06\n",
      "xpot_downloadlog-2021.02\n",
      "xpot_downloadlog-2021.03\n",
      "xpot_downloadlog-2021.04\n",
      "xpot_downloadlog-2021.05\n",
      "xpot_downloadlog-2021.06\n",
      "xpot_downloadlog-2021.07\n",
      "xpot_downloadlog-2021.08\n",
      "xpot_downloadlog-2021.09\n",
      "xpot_downloadlog-2021.10\n",
      "xpot_downloadlog-2021.11\n",
      "xpot_downloadlog-2021.12\n",
      "xpot_downloadlog-2021.01\n",
      "xpot_accesslog-2019.09\n",
      "xpot_accesslog-2019.07\n",
      "xpot_accesslog-2019.08\n",
      "xpot_downloadlog-2020.12\n",
      "xpot_accesslog-2019.12\n",
      "xpot_accesslog-2019.10\n",
      "xpot_accesslog-2019.11\n",
      "xpot_accesslog-2020.01\n",
      "xpot_accesslog-2020.02\n",
      "xpot_accesslog-2020.03\n",
      "xpot_downloadlog-2020.11\n",
      "xpot_accesslog-2020.04\n",
      "xpot_accesslog-2020.05\n",
      "xpot_accesslog-2020.06\n",
      "xpot_accesslog-2020.07\n",
      "xpot_accesslog-2020.08\n",
      "xpot_accesslog-2020.09\n",
      "331\n"
     ]
    }
   ],
   "source": [
    "from elasticsearch import Elasticsearch\n",
    "\n",
    "es = Elasticsearch(\"http://localhost:12333\")\n",
    "print(es.info())\n",
    "indices = es.cat.indices(index='*', h='index').splitlines()\n",
    "for i in indices:\n",
    "    if 'xpot' in i: print(i)\n",
    "query = {\n",
    "    \"term\": {\n",
    "        \"analysis_tags.keyword\": \"not detect\"\n",
    "    }\n",
    "}\n",
    "result = es.search(index=\"xpot_accesslog-2021.10\", query=query, size=10000)\n",
    "print(len(result['hits']['hits']))"
   ]
  },
  {
   "cell_type": "markdown",
   "source": [
    "↓Collect basic info"
   ],
   "metadata": {
    "collapsed": false,
    "pycharm": {
     "name": "#%% md\n"
    }
   }
  },
  {
   "cell_type": "code",
   "execution_count": 22,
   "outputs": [
    {
     "name": "stdout",
     "output_type": "stream",
     "text": [
      "{'name': 'node-103', 'cluster_name': 'ylab-cluster', 'cluster_uuid': 'iZvBu9beSk2ufOSK_k992w', 'version': {'number': '7.16.0', 'build_flavor': 'default', 'build_type': 'deb', 'build_hash': '6fc81662312141fe7691d7c1c91b8658ac17aa0d', 'build_date': '2021-12-02T15:46:35.697268109Z', 'build_snapshot': False, 'lucene_version': '8.10.1', 'minimum_wire_compatibility_version': '6.8.0', 'minimum_index_compatibility_version': '6.0.0-beta1'}, 'tagline': 'You Know, for Search'}\n",
      "xpot_accesslog-2020.10\n",
      "xpot_accesslog-2020.11\n",
      "xpot_accesslog-2020.12\n",
      "xpot_accesslog-2021.01\n",
      "xpot_accesslog-2021.02\n",
      "xpot_accesslog-2021.03\n",
      "xpot_accesslog-2021.04\n",
      "xpot_accesslog-2021.05\n",
      "xpot_accesslog-2021.06\n",
      "xpot_accesslog-2021.07\n",
      "xpot_accesslog-2021.08\n",
      "xpot_accesslog-2021.09\n",
      "xpot_accesslog-2021.10\n",
      "xpot_accesslog-2021.11\n",
      "xpot_accesslog-2021.12\n",
      "xpot_accesslog-2019.09\n",
      "xpot_accesslog-2019.07\n",
      "xpot_accesslog-2019.08\n",
      "xpot_accesslog-2019.12\n",
      "xpot_accesslog-2019.10\n",
      "xpot_accesslog-2019.11\n",
      "xpot_accesslog-2020.01\n",
      "xpot_accesslog-2020.02\n",
      "xpot_accesslog-2020.03\n",
      "xpot_accesslog-2020.04\n",
      "xpot_accesslog-2020.05\n",
      "xpot_accesslog-2020.06\n",
      "xpot_accesslog-2020.07\n",
      "xpot_accesslog-2020.08\n",
      "xpot_accesslog-2020.09\n"
     ]
    }
   ],
   "source": [
    "es = Elasticsearch(\"http://localhost:12333\")\n",
    "print(es.info())\n",
    "indices = es.cat.indices(index='*', h='index').splitlines()\n",
    "for i in indices:\n",
    "    if 'xpot_accesslog-20' in i: print(i)"
   ],
   "metadata": {
    "collapsed": false,
    "pycharm": {
     "name": "#%%\n"
    }
   }
  }
 ],
 "metadata": {
  "kernelspec": {
   "display_name": "Python 3",
   "language": "python",
   "name": "python3"
  },
  "language_info": {
   "codemirror_mode": {
    "name": "ipython",
    "version": 2
   },
   "file_extension": ".py",
   "mimetype": "text/x-python",
   "name": "python",
   "nbconvert_exporter": "python",
   "pygments_lexer": "ipython2",
   "version": "2.7.6"
  }
 },
 "nbformat": 4,
 "nbformat_minor": 0
}